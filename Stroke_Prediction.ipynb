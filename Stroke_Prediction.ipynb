{
  "nbformat": 4,
  "nbformat_minor": 0,
  "metadata": {
    "colab": {
      "provenance": [],
      "include_colab_link": true
    },
    "kernelspec": {
      "name": "python3",
      "display_name": "Python 3"
    },
    "language_info": {
      "name": "python"
    }
  },
  "cells": [
    {
      "cell_type": "markdown",
      "metadata": {
        "id": "view-in-github",
        "colab_type": "text"
      },
      "source": [
        "<a href=\"https://colab.research.google.com/github/wow7seven/Stroke-Prediction/blob/main/Stroke_Prediction.ipynb\" target=\"_parent\"><img src=\"https://colab.research.google.com/assets/colab-badge.svg\" alt=\"Open In Colab\"/></a>"
      ]
    },
    {
      "cell_type": "markdown",
      "metadata": {
        "id": "wMUJP8oIJv0k"
      },
      "source": [
        "# Common Imports"
      ]
    },
    {
      "cell_type": "code",
      "execution_count": null,
      "metadata": {
        "id": "Y4ImRFKWJy5s",
        "colab": {
          "base_uri": "https://localhost:8080/"
        },
        "outputId": "f830f5d5-5aab-44d9-d0f0-12c0c6265f83"
      },
      "outputs": [
        {
          "output_type": "stream",
          "name": "stdout",
          "text": [
            "Mounted at /content/drive\n"
          ]
        }
      ],
      "source": [
        "import pandas as pd\n",
        "import numpy as np\n",
        "import math\n",
        "import os\n",
        "import seaborn as sns\n",
        "import matplotlib.pyplot as plt\n",
        "from scipy import linalg\n",
        "import matplotlib as mpl\n",
        "from sklearn.model_selection import train_test_split\n",
        "from sklearn.model_selection import StratifiedShuffleSplit\n",
        "from sklearn.metrics import mean_squared_error as mse\n",
        "from sklearn.metrics import accuracy_score as accuracy\n",
        "from sklearn.metrics import recall_score as sensitivity\n",
        "from sklearn.metrics import classification_report\n",
        "from sklearn.model_selection import cross_val_score\n",
        "from sklearn.metrics import confusion_matrix\n",
        "from sklearn import metrics\n",
        "from sklearn.preprocessing import LabelEncoder\n",
        "from statistics import mean\n",
        "import gc\n",
        "from scipy.linalg import eigh as eigen\n",
        "from sklearn.metrics import r2_score\n",
        "from sklearn.metrics import f1_score\n",
        "from collections import Counter\n",
        "from google.colab import drive\n",
        "import warnings\n",
        "warnings.filterwarnings('ignore')\n",
        "drive.mount('/content/drive')"
      ]
    },
    {
      "cell_type": "markdown",
      "source": [
        "# Data Importing and Preprocessing"
      ],
      "metadata": {
        "id": "NQ_hmRgP04Lk"
      }
    },
    {
      "cell_type": "code",
      "execution_count": null,
      "metadata": {
        "id": "I6ET5aCl2NeL"
      },
      "outputs": [],
      "source": [
        "from sklearn.preprocessing import LabelEncoder,StandardScaler\n",
        "lbcode=LabelEncoder()\n",
        "scalar=StandardScaler()"
      ]
    },
    {
      "cell_type": "code",
      "source": [
        "data=pd.read_csv('/content/healthcare-dataset-stroke-data.csv')"
      ],
      "metadata": {
        "id": "QzQ8hsApBnT-"
      },
      "execution_count": null,
      "outputs": []
    },
    {
      "cell_type": "code",
      "source": [
        "data"
      ],
      "metadata": {
        "colab": {
          "base_uri": "https://localhost:8080/",
          "height": 423
        },
        "id": "VbmYpajz028v",
        "outputId": "f08e72f8-2eea-4b1a-bc94-30af90781184"
      },
      "execution_count": null,
      "outputs": [
        {
          "output_type": "execute_result",
          "data": {
            "text/plain": [
              "         id  gender   age  hypertension  heart_disease ever_married  \\\n",
              "0      9046    Male  67.0             0              1          Yes   \n",
              "1     51676  Female  61.0             0              0          Yes   \n",
              "2     31112    Male  80.0             0              1          Yes   \n",
              "3     60182  Female  49.0             0              0          Yes   \n",
              "4      1665  Female  79.0             1              0          Yes   \n",
              "...     ...     ...   ...           ...            ...          ...   \n",
              "5105  18234  Female  80.0             1              0          Yes   \n",
              "5106  44873  Female  81.0             0              0          Yes   \n",
              "5107  19723  Female  35.0             0              0          Yes   \n",
              "5108  37544    Male  51.0             0              0          Yes   \n",
              "5109  44679  Female  44.0             0              0          Yes   \n",
              "\n",
              "          work_type Residence_type  avg_glucose_level   bmi   smoking_status  \\\n",
              "0           Private          Urban             228.69  36.6  formerly smoked   \n",
              "1     Self-employed          Rural             202.21   NaN     never smoked   \n",
              "2           Private          Rural             105.92  32.5     never smoked   \n",
              "3           Private          Urban             171.23  34.4           smokes   \n",
              "4     Self-employed          Rural             174.12  24.0     never smoked   \n",
              "...             ...            ...                ...   ...              ...   \n",
              "5105        Private          Urban              83.75   NaN     never smoked   \n",
              "5106  Self-employed          Urban             125.20  40.0     never smoked   \n",
              "5107  Self-employed          Rural              82.99  30.6     never smoked   \n",
              "5108        Private          Rural             166.29  25.6  formerly smoked   \n",
              "5109       Govt_job          Urban              85.28  26.2          Unknown   \n",
              "\n",
              "      stroke  \n",
              "0          1  \n",
              "1          1  \n",
              "2          1  \n",
              "3          1  \n",
              "4          1  \n",
              "...      ...  \n",
              "5105       0  \n",
              "5106       0  \n",
              "5107       0  \n",
              "5108       0  \n",
              "5109       0  \n",
              "\n",
              "[5110 rows x 12 columns]"
            ],
            "text/html": [
              "\n",
              "  <div id=\"df-37073869-20b6-4299-90a6-892fafe5e27b\">\n",
              "    <div class=\"colab-df-container\">\n",
              "      <div>\n",
              "<style scoped>\n",
              "    .dataframe tbody tr th:only-of-type {\n",
              "        vertical-align: middle;\n",
              "    }\n",
              "\n",
              "    .dataframe tbody tr th {\n",
              "        vertical-align: top;\n",
              "    }\n",
              "\n",
              "    .dataframe thead th {\n",
              "        text-align: right;\n",
              "    }\n",
              "</style>\n",
              "<table border=\"1\" class=\"dataframe\">\n",
              "  <thead>\n",
              "    <tr style=\"text-align: right;\">\n",
              "      <th></th>\n",
              "      <th>id</th>\n",
              "      <th>gender</th>\n",
              "      <th>age</th>\n",
              "      <th>hypertension</th>\n",
              "      <th>heart_disease</th>\n",
              "      <th>ever_married</th>\n",
              "      <th>work_type</th>\n",
              "      <th>Residence_type</th>\n",
              "      <th>avg_glucose_level</th>\n",
              "      <th>bmi</th>\n",
              "      <th>smoking_status</th>\n",
              "      <th>stroke</th>\n",
              "    </tr>\n",
              "  </thead>\n",
              "  <tbody>\n",
              "    <tr>\n",
              "      <th>0</th>\n",
              "      <td>9046</td>\n",
              "      <td>Male</td>\n",
              "      <td>67.0</td>\n",
              "      <td>0</td>\n",
              "      <td>1</td>\n",
              "      <td>Yes</td>\n",
              "      <td>Private</td>\n",
              "      <td>Urban</td>\n",
              "      <td>228.69</td>\n",
              "      <td>36.6</td>\n",
              "      <td>formerly smoked</td>\n",
              "      <td>1</td>\n",
              "    </tr>\n",
              "    <tr>\n",
              "      <th>1</th>\n",
              "      <td>51676</td>\n",
              "      <td>Female</td>\n",
              "      <td>61.0</td>\n",
              "      <td>0</td>\n",
              "      <td>0</td>\n",
              "      <td>Yes</td>\n",
              "      <td>Self-employed</td>\n",
              "      <td>Rural</td>\n",
              "      <td>202.21</td>\n",
              "      <td>NaN</td>\n",
              "      <td>never smoked</td>\n",
              "      <td>1</td>\n",
              "    </tr>\n",
              "    <tr>\n",
              "      <th>2</th>\n",
              "      <td>31112</td>\n",
              "      <td>Male</td>\n",
              "      <td>80.0</td>\n",
              "      <td>0</td>\n",
              "      <td>1</td>\n",
              "      <td>Yes</td>\n",
              "      <td>Private</td>\n",
              "      <td>Rural</td>\n",
              "      <td>105.92</td>\n",
              "      <td>32.5</td>\n",
              "      <td>never smoked</td>\n",
              "      <td>1</td>\n",
              "    </tr>\n",
              "    <tr>\n",
              "      <th>3</th>\n",
              "      <td>60182</td>\n",
              "      <td>Female</td>\n",
              "      <td>49.0</td>\n",
              "      <td>0</td>\n",
              "      <td>0</td>\n",
              "      <td>Yes</td>\n",
              "      <td>Private</td>\n",
              "      <td>Urban</td>\n",
              "      <td>171.23</td>\n",
              "      <td>34.4</td>\n",
              "      <td>smokes</td>\n",
              "      <td>1</td>\n",
              "    </tr>\n",
              "    <tr>\n",
              "      <th>4</th>\n",
              "      <td>1665</td>\n",
              "      <td>Female</td>\n",
              "      <td>79.0</td>\n",
              "      <td>1</td>\n",
              "      <td>0</td>\n",
              "      <td>Yes</td>\n",
              "      <td>Self-employed</td>\n",
              "      <td>Rural</td>\n",
              "      <td>174.12</td>\n",
              "      <td>24.0</td>\n",
              "      <td>never smoked</td>\n",
              "      <td>1</td>\n",
              "    </tr>\n",
              "    <tr>\n",
              "      <th>...</th>\n",
              "      <td>...</td>\n",
              "      <td>...</td>\n",
              "      <td>...</td>\n",
              "      <td>...</td>\n",
              "      <td>...</td>\n",
              "      <td>...</td>\n",
              "      <td>...</td>\n",
              "      <td>...</td>\n",
              "      <td>...</td>\n",
              "      <td>...</td>\n",
              "      <td>...</td>\n",
              "      <td>...</td>\n",
              "    </tr>\n",
              "    <tr>\n",
              "      <th>5105</th>\n",
              "      <td>18234</td>\n",
              "      <td>Female</td>\n",
              "      <td>80.0</td>\n",
              "      <td>1</td>\n",
              "      <td>0</td>\n",
              "      <td>Yes</td>\n",
              "      <td>Private</td>\n",
              "      <td>Urban</td>\n",
              "      <td>83.75</td>\n",
              "      <td>NaN</td>\n",
              "      <td>never smoked</td>\n",
              "      <td>0</td>\n",
              "    </tr>\n",
              "    <tr>\n",
              "      <th>5106</th>\n",
              "      <td>44873</td>\n",
              "      <td>Female</td>\n",
              "      <td>81.0</td>\n",
              "      <td>0</td>\n",
              "      <td>0</td>\n",
              "      <td>Yes</td>\n",
              "      <td>Self-employed</td>\n",
              "      <td>Urban</td>\n",
              "      <td>125.20</td>\n",
              "      <td>40.0</td>\n",
              "      <td>never smoked</td>\n",
              "      <td>0</td>\n",
              "    </tr>\n",
              "    <tr>\n",
              "      <th>5107</th>\n",
              "      <td>19723</td>\n",
              "      <td>Female</td>\n",
              "      <td>35.0</td>\n",
              "      <td>0</td>\n",
              "      <td>0</td>\n",
              "      <td>Yes</td>\n",
              "      <td>Self-employed</td>\n",
              "      <td>Rural</td>\n",
              "      <td>82.99</td>\n",
              "      <td>30.6</td>\n",
              "      <td>never smoked</td>\n",
              "      <td>0</td>\n",
              "    </tr>\n",
              "    <tr>\n",
              "      <th>5108</th>\n",
              "      <td>37544</td>\n",
              "      <td>Male</td>\n",
              "      <td>51.0</td>\n",
              "      <td>0</td>\n",
              "      <td>0</td>\n",
              "      <td>Yes</td>\n",
              "      <td>Private</td>\n",
              "      <td>Rural</td>\n",
              "      <td>166.29</td>\n",
              "      <td>25.6</td>\n",
              "      <td>formerly smoked</td>\n",
              "      <td>0</td>\n",
              "    </tr>\n",
              "    <tr>\n",
              "      <th>5109</th>\n",
              "      <td>44679</td>\n",
              "      <td>Female</td>\n",
              "      <td>44.0</td>\n",
              "      <td>0</td>\n",
              "      <td>0</td>\n",
              "      <td>Yes</td>\n",
              "      <td>Govt_job</td>\n",
              "      <td>Urban</td>\n",
              "      <td>85.28</td>\n",
              "      <td>26.2</td>\n",
              "      <td>Unknown</td>\n",
              "      <td>0</td>\n",
              "    </tr>\n",
              "  </tbody>\n",
              "</table>\n",
              "<p>5110 rows × 12 columns</p>\n",
              "</div>\n",
              "      <button class=\"colab-df-convert\" onclick=\"convertToInteractive('df-37073869-20b6-4299-90a6-892fafe5e27b')\"\n",
              "              title=\"Convert this dataframe to an interactive table.\"\n",
              "              style=\"display:none;\">\n",
              "        \n",
              "  <svg xmlns=\"http://www.w3.org/2000/svg\" height=\"24px\"viewBox=\"0 0 24 24\"\n",
              "       width=\"24px\">\n",
              "    <path d=\"M0 0h24v24H0V0z\" fill=\"none\"/>\n",
              "    <path d=\"M18.56 5.44l.94 2.06.94-2.06 2.06-.94-2.06-.94-.94-2.06-.94 2.06-2.06.94zm-11 1L8.5 8.5l.94-2.06 2.06-.94-2.06-.94L8.5 2.5l-.94 2.06-2.06.94zm10 10l.94 2.06.94-2.06 2.06-.94-2.06-.94-.94-2.06-.94 2.06-2.06.94z\"/><path d=\"M17.41 7.96l-1.37-1.37c-.4-.4-.92-.59-1.43-.59-.52 0-1.04.2-1.43.59L10.3 9.45l-7.72 7.72c-.78.78-.78 2.05 0 2.83L4 21.41c.39.39.9.59 1.41.59.51 0 1.02-.2 1.41-.59l7.78-7.78 2.81-2.81c.8-.78.8-2.07 0-2.86zM5.41 20L4 18.59l7.72-7.72 1.47 1.35L5.41 20z\"/>\n",
              "  </svg>\n",
              "      </button>\n",
              "      \n",
              "  <style>\n",
              "    .colab-df-container {\n",
              "      display:flex;\n",
              "      flex-wrap:wrap;\n",
              "      gap: 12px;\n",
              "    }\n",
              "\n",
              "    .colab-df-convert {\n",
              "      background-color: #E8F0FE;\n",
              "      border: none;\n",
              "      border-radius: 50%;\n",
              "      cursor: pointer;\n",
              "      display: none;\n",
              "      fill: #1967D2;\n",
              "      height: 32px;\n",
              "      padding: 0 0 0 0;\n",
              "      width: 32px;\n",
              "    }\n",
              "\n",
              "    .colab-df-convert:hover {\n",
              "      background-color: #E2EBFA;\n",
              "      box-shadow: 0px 1px 2px rgba(60, 64, 67, 0.3), 0px 1px 3px 1px rgba(60, 64, 67, 0.15);\n",
              "      fill: #174EA6;\n",
              "    }\n",
              "\n",
              "    [theme=dark] .colab-df-convert {\n",
              "      background-color: #3B4455;\n",
              "      fill: #D2E3FC;\n",
              "    }\n",
              "\n",
              "    [theme=dark] .colab-df-convert:hover {\n",
              "      background-color: #434B5C;\n",
              "      box-shadow: 0px 1px 3px 1px rgba(0, 0, 0, 0.15);\n",
              "      filter: drop-shadow(0px 1px 2px rgba(0, 0, 0, 0.3));\n",
              "      fill: #FFFFFF;\n",
              "    }\n",
              "  </style>\n",
              "\n",
              "      <script>\n",
              "        const buttonEl =\n",
              "          document.querySelector('#df-37073869-20b6-4299-90a6-892fafe5e27b button.colab-df-convert');\n",
              "        buttonEl.style.display =\n",
              "          google.colab.kernel.accessAllowed ? 'block' : 'none';\n",
              "\n",
              "        async function convertToInteractive(key) {\n",
              "          const element = document.querySelector('#df-37073869-20b6-4299-90a6-892fafe5e27b');\n",
              "          const dataTable =\n",
              "            await google.colab.kernel.invokeFunction('convertToInteractive',\n",
              "                                                     [key], {});\n",
              "          if (!dataTable) return;\n",
              "\n",
              "          const docLinkHtml = 'Like what you see? Visit the ' +\n",
              "            '<a target=\"_blank\" href=https://colab.research.google.com/notebooks/data_table.ipynb>data table notebook</a>'\n",
              "            + ' to learn more about interactive tables.';\n",
              "          element.innerHTML = '';\n",
              "          dataTable['output_type'] = 'display_data';\n",
              "          await google.colab.output.renderOutput(dataTable, element);\n",
              "          const docLink = document.createElement('div');\n",
              "          docLink.innerHTML = docLinkHtml;\n",
              "          element.appendChild(docLink);\n",
              "        }\n",
              "      </script>\n",
              "    </div>\n",
              "  </div>\n",
              "  "
            ]
          },
          "metadata": {},
          "execution_count": 4
        }
      ]
    },
    {
      "cell_type": "code",
      "source": [
        "data.isna().sum()"
      ],
      "metadata": {
        "colab": {
          "base_uri": "https://localhost:8080/"
        },
        "id": "nXEnW4xk1BOK",
        "outputId": "61c5c8cc-e0ea-4c05-c8c0-81e27e819474"
      },
      "execution_count": null,
      "outputs": [
        {
          "output_type": "execute_result",
          "data": {
            "text/plain": [
              "id                     0\n",
              "gender                 0\n",
              "age                    0\n",
              "hypertension           0\n",
              "heart_disease          0\n",
              "ever_married           0\n",
              "work_type              0\n",
              "Residence_type         0\n",
              "avg_glucose_level      0\n",
              "bmi                  201\n",
              "smoking_status         0\n",
              "stroke                 0\n",
              "dtype: int64"
            ]
          },
          "metadata": {},
          "execution_count": 5
        }
      ]
    },
    {
      "cell_type": "code",
      "source": [
        "data=data.dropna()"
      ],
      "metadata": {
        "id": "Lp57LmnZBuF7"
      },
      "execution_count": null,
      "outputs": []
    },
    {
      "cell_type": "code",
      "source": [
        "data.isna().sum()"
      ],
      "metadata": {
        "colab": {
          "base_uri": "https://localhost:8080/"
        },
        "id": "MixD5flo1NLT",
        "outputId": "05b4663f-9c55-41c1-9bb4-73ce23703910"
      },
      "execution_count": null,
      "outputs": [
        {
          "output_type": "execute_result",
          "data": {
            "text/plain": [
              "id                   0\n",
              "gender               0\n",
              "age                  0\n",
              "hypertension         0\n",
              "heart_disease        0\n",
              "ever_married         0\n",
              "work_type            0\n",
              "Residence_type       0\n",
              "avg_glucose_level    0\n",
              "bmi                  0\n",
              "smoking_status       0\n",
              "stroke               0\n",
              "dtype: int64"
            ]
          },
          "metadata": {},
          "execution_count": 7
        }
      ]
    },
    {
      "cell_type": "code",
      "source": [
        "data['gender']=lbcode.fit_transform(data['gender'])\n",
        "data['ever_married']=lbcode.fit_transform(data['ever_married'])\n",
        "data['work_type']=lbcode.fit_transform(data['work_type'])\n",
        "data['Residence_type']=lbcode.fit_transform(data['Residence_type'])\n",
        "data['smoking_status']=lbcode.fit_transform(data['smoking_status'])"
      ],
      "metadata": {
        "id": "1Ax5JIcIBunc"
      },
      "execution_count": null,
      "outputs": []
    },
    {
      "cell_type": "code",
      "source": [
        "data"
      ],
      "metadata": {
        "colab": {
          "base_uri": "https://localhost:8080/",
          "height": 423
        },
        "id": "47CyGTU0C1Sv",
        "outputId": "eedb10ed-c82b-4350-c5a3-9965324627dc"
      },
      "execution_count": null,
      "outputs": [
        {
          "output_type": "execute_result",
          "data": {
            "text/plain": [
              "         id  gender   age  hypertension  heart_disease  ever_married  \\\n",
              "0      9046       1  67.0             0              1             1   \n",
              "2     31112       1  80.0             0              1             1   \n",
              "3     60182       0  49.0             0              0             1   \n",
              "4      1665       0  79.0             1              0             1   \n",
              "5     56669       1  81.0             0              0             1   \n",
              "...     ...     ...   ...           ...            ...           ...   \n",
              "5104  14180       0  13.0             0              0             0   \n",
              "5106  44873       0  81.0             0              0             1   \n",
              "5107  19723       0  35.0             0              0             1   \n",
              "5108  37544       1  51.0             0              0             1   \n",
              "5109  44679       0  44.0             0              0             1   \n",
              "\n",
              "      work_type  Residence_type  avg_glucose_level   bmi  smoking_status  \\\n",
              "0             2               1             228.69  36.6               1   \n",
              "2             2               0             105.92  32.5               2   \n",
              "3             2               1             171.23  34.4               3   \n",
              "4             3               0             174.12  24.0               2   \n",
              "5             2               1             186.21  29.0               1   \n",
              "...         ...             ...                ...   ...             ...   \n",
              "5104          4               0             103.08  18.6               0   \n",
              "5106          3               1             125.20  40.0               2   \n",
              "5107          3               0              82.99  30.6               2   \n",
              "5108          2               0             166.29  25.6               1   \n",
              "5109          0               1              85.28  26.2               0   \n",
              "\n",
              "      stroke  \n",
              "0          1  \n",
              "2          1  \n",
              "3          1  \n",
              "4          1  \n",
              "5          1  \n",
              "...      ...  \n",
              "5104       0  \n",
              "5106       0  \n",
              "5107       0  \n",
              "5108       0  \n",
              "5109       0  \n",
              "\n",
              "[4909 rows x 12 columns]"
            ],
            "text/html": [
              "\n",
              "  <div id=\"df-8d055bfb-9aa6-4b0c-b843-d1bda0647140\">\n",
              "    <div class=\"colab-df-container\">\n",
              "      <div>\n",
              "<style scoped>\n",
              "    .dataframe tbody tr th:only-of-type {\n",
              "        vertical-align: middle;\n",
              "    }\n",
              "\n",
              "    .dataframe tbody tr th {\n",
              "        vertical-align: top;\n",
              "    }\n",
              "\n",
              "    .dataframe thead th {\n",
              "        text-align: right;\n",
              "    }\n",
              "</style>\n",
              "<table border=\"1\" class=\"dataframe\">\n",
              "  <thead>\n",
              "    <tr style=\"text-align: right;\">\n",
              "      <th></th>\n",
              "      <th>id</th>\n",
              "      <th>gender</th>\n",
              "      <th>age</th>\n",
              "      <th>hypertension</th>\n",
              "      <th>heart_disease</th>\n",
              "      <th>ever_married</th>\n",
              "      <th>work_type</th>\n",
              "      <th>Residence_type</th>\n",
              "      <th>avg_glucose_level</th>\n",
              "      <th>bmi</th>\n",
              "      <th>smoking_status</th>\n",
              "      <th>stroke</th>\n",
              "    </tr>\n",
              "  </thead>\n",
              "  <tbody>\n",
              "    <tr>\n",
              "      <th>0</th>\n",
              "      <td>9046</td>\n",
              "      <td>1</td>\n",
              "      <td>67.0</td>\n",
              "      <td>0</td>\n",
              "      <td>1</td>\n",
              "      <td>1</td>\n",
              "      <td>2</td>\n",
              "      <td>1</td>\n",
              "      <td>228.69</td>\n",
              "      <td>36.6</td>\n",
              "      <td>1</td>\n",
              "      <td>1</td>\n",
              "    </tr>\n",
              "    <tr>\n",
              "      <th>2</th>\n",
              "      <td>31112</td>\n",
              "      <td>1</td>\n",
              "      <td>80.0</td>\n",
              "      <td>0</td>\n",
              "      <td>1</td>\n",
              "      <td>1</td>\n",
              "      <td>2</td>\n",
              "      <td>0</td>\n",
              "      <td>105.92</td>\n",
              "      <td>32.5</td>\n",
              "      <td>2</td>\n",
              "      <td>1</td>\n",
              "    </tr>\n",
              "    <tr>\n",
              "      <th>3</th>\n",
              "      <td>60182</td>\n",
              "      <td>0</td>\n",
              "      <td>49.0</td>\n",
              "      <td>0</td>\n",
              "      <td>0</td>\n",
              "      <td>1</td>\n",
              "      <td>2</td>\n",
              "      <td>1</td>\n",
              "      <td>171.23</td>\n",
              "      <td>34.4</td>\n",
              "      <td>3</td>\n",
              "      <td>1</td>\n",
              "    </tr>\n",
              "    <tr>\n",
              "      <th>4</th>\n",
              "      <td>1665</td>\n",
              "      <td>0</td>\n",
              "      <td>79.0</td>\n",
              "      <td>1</td>\n",
              "      <td>0</td>\n",
              "      <td>1</td>\n",
              "      <td>3</td>\n",
              "      <td>0</td>\n",
              "      <td>174.12</td>\n",
              "      <td>24.0</td>\n",
              "      <td>2</td>\n",
              "      <td>1</td>\n",
              "    </tr>\n",
              "    <tr>\n",
              "      <th>5</th>\n",
              "      <td>56669</td>\n",
              "      <td>1</td>\n",
              "      <td>81.0</td>\n",
              "      <td>0</td>\n",
              "      <td>0</td>\n",
              "      <td>1</td>\n",
              "      <td>2</td>\n",
              "      <td>1</td>\n",
              "      <td>186.21</td>\n",
              "      <td>29.0</td>\n",
              "      <td>1</td>\n",
              "      <td>1</td>\n",
              "    </tr>\n",
              "    <tr>\n",
              "      <th>...</th>\n",
              "      <td>...</td>\n",
              "      <td>...</td>\n",
              "      <td>...</td>\n",
              "      <td>...</td>\n",
              "      <td>...</td>\n",
              "      <td>...</td>\n",
              "      <td>...</td>\n",
              "      <td>...</td>\n",
              "      <td>...</td>\n",
              "      <td>...</td>\n",
              "      <td>...</td>\n",
              "      <td>...</td>\n",
              "    </tr>\n",
              "    <tr>\n",
              "      <th>5104</th>\n",
              "      <td>14180</td>\n",
              "      <td>0</td>\n",
              "      <td>13.0</td>\n",
              "      <td>0</td>\n",
              "      <td>0</td>\n",
              "      <td>0</td>\n",
              "      <td>4</td>\n",
              "      <td>0</td>\n",
              "      <td>103.08</td>\n",
              "      <td>18.6</td>\n",
              "      <td>0</td>\n",
              "      <td>0</td>\n",
              "    </tr>\n",
              "    <tr>\n",
              "      <th>5106</th>\n",
              "      <td>44873</td>\n",
              "      <td>0</td>\n",
              "      <td>81.0</td>\n",
              "      <td>0</td>\n",
              "      <td>0</td>\n",
              "      <td>1</td>\n",
              "      <td>3</td>\n",
              "      <td>1</td>\n",
              "      <td>125.20</td>\n",
              "      <td>40.0</td>\n",
              "      <td>2</td>\n",
              "      <td>0</td>\n",
              "    </tr>\n",
              "    <tr>\n",
              "      <th>5107</th>\n",
              "      <td>19723</td>\n",
              "      <td>0</td>\n",
              "      <td>35.0</td>\n",
              "      <td>0</td>\n",
              "      <td>0</td>\n",
              "      <td>1</td>\n",
              "      <td>3</td>\n",
              "      <td>0</td>\n",
              "      <td>82.99</td>\n",
              "      <td>30.6</td>\n",
              "      <td>2</td>\n",
              "      <td>0</td>\n",
              "    </tr>\n",
              "    <tr>\n",
              "      <th>5108</th>\n",
              "      <td>37544</td>\n",
              "      <td>1</td>\n",
              "      <td>51.0</td>\n",
              "      <td>0</td>\n",
              "      <td>0</td>\n",
              "      <td>1</td>\n",
              "      <td>2</td>\n",
              "      <td>0</td>\n",
              "      <td>166.29</td>\n",
              "      <td>25.6</td>\n",
              "      <td>1</td>\n",
              "      <td>0</td>\n",
              "    </tr>\n",
              "    <tr>\n",
              "      <th>5109</th>\n",
              "      <td>44679</td>\n",
              "      <td>0</td>\n",
              "      <td>44.0</td>\n",
              "      <td>0</td>\n",
              "      <td>0</td>\n",
              "      <td>1</td>\n",
              "      <td>0</td>\n",
              "      <td>1</td>\n",
              "      <td>85.28</td>\n",
              "      <td>26.2</td>\n",
              "      <td>0</td>\n",
              "      <td>0</td>\n",
              "    </tr>\n",
              "  </tbody>\n",
              "</table>\n",
              "<p>4909 rows × 12 columns</p>\n",
              "</div>\n",
              "      <button class=\"colab-df-convert\" onclick=\"convertToInteractive('df-8d055bfb-9aa6-4b0c-b843-d1bda0647140')\"\n",
              "              title=\"Convert this dataframe to an interactive table.\"\n",
              "              style=\"display:none;\">\n",
              "        \n",
              "  <svg xmlns=\"http://www.w3.org/2000/svg\" height=\"24px\"viewBox=\"0 0 24 24\"\n",
              "       width=\"24px\">\n",
              "    <path d=\"M0 0h24v24H0V0z\" fill=\"none\"/>\n",
              "    <path d=\"M18.56 5.44l.94 2.06.94-2.06 2.06-.94-2.06-.94-.94-2.06-.94 2.06-2.06.94zm-11 1L8.5 8.5l.94-2.06 2.06-.94-2.06-.94L8.5 2.5l-.94 2.06-2.06.94zm10 10l.94 2.06.94-2.06 2.06-.94-2.06-.94-.94-2.06-.94 2.06-2.06.94z\"/><path d=\"M17.41 7.96l-1.37-1.37c-.4-.4-.92-.59-1.43-.59-.52 0-1.04.2-1.43.59L10.3 9.45l-7.72 7.72c-.78.78-.78 2.05 0 2.83L4 21.41c.39.39.9.59 1.41.59.51 0 1.02-.2 1.41-.59l7.78-7.78 2.81-2.81c.8-.78.8-2.07 0-2.86zM5.41 20L4 18.59l7.72-7.72 1.47 1.35L5.41 20z\"/>\n",
              "  </svg>\n",
              "      </button>\n",
              "      \n",
              "  <style>\n",
              "    .colab-df-container {\n",
              "      display:flex;\n",
              "      flex-wrap:wrap;\n",
              "      gap: 12px;\n",
              "    }\n",
              "\n",
              "    .colab-df-convert {\n",
              "      background-color: #E8F0FE;\n",
              "      border: none;\n",
              "      border-radius: 50%;\n",
              "      cursor: pointer;\n",
              "      display: none;\n",
              "      fill: #1967D2;\n",
              "      height: 32px;\n",
              "      padding: 0 0 0 0;\n",
              "      width: 32px;\n",
              "    }\n",
              "\n",
              "    .colab-df-convert:hover {\n",
              "      background-color: #E2EBFA;\n",
              "      box-shadow: 0px 1px 2px rgba(60, 64, 67, 0.3), 0px 1px 3px 1px rgba(60, 64, 67, 0.15);\n",
              "      fill: #174EA6;\n",
              "    }\n",
              "\n",
              "    [theme=dark] .colab-df-convert {\n",
              "      background-color: #3B4455;\n",
              "      fill: #D2E3FC;\n",
              "    }\n",
              "\n",
              "    [theme=dark] .colab-df-convert:hover {\n",
              "      background-color: #434B5C;\n",
              "      box-shadow: 0px 1px 3px 1px rgba(0, 0, 0, 0.15);\n",
              "      filter: drop-shadow(0px 1px 2px rgba(0, 0, 0, 0.3));\n",
              "      fill: #FFFFFF;\n",
              "    }\n",
              "  </style>\n",
              "\n",
              "      <script>\n",
              "        const buttonEl =\n",
              "          document.querySelector('#df-8d055bfb-9aa6-4b0c-b843-d1bda0647140 button.colab-df-convert');\n",
              "        buttonEl.style.display =\n",
              "          google.colab.kernel.accessAllowed ? 'block' : 'none';\n",
              "\n",
              "        async function convertToInteractive(key) {\n",
              "          const element = document.querySelector('#df-8d055bfb-9aa6-4b0c-b843-d1bda0647140');\n",
              "          const dataTable =\n",
              "            await google.colab.kernel.invokeFunction('convertToInteractive',\n",
              "                                                     [key], {});\n",
              "          if (!dataTable) return;\n",
              "\n",
              "          const docLinkHtml = 'Like what you see? Visit the ' +\n",
              "            '<a target=\"_blank\" href=https://colab.research.google.com/notebooks/data_table.ipynb>data table notebook</a>'\n",
              "            + ' to learn more about interactive tables.';\n",
              "          element.innerHTML = '';\n",
              "          dataTable['output_type'] = 'display_data';\n",
              "          await google.colab.output.renderOutput(dataTable, element);\n",
              "          const docLink = document.createElement('div');\n",
              "          docLink.innerHTML = docLinkHtml;\n",
              "          element.appendChild(docLink);\n",
              "        }\n",
              "      </script>\n",
              "    </div>\n",
              "  </div>\n",
              "  "
            ]
          },
          "metadata": {},
          "execution_count": 9
        }
      ]
    },
    {
      "cell_type": "code",
      "source": [
        "sns.countplot(data['stroke'])\n",
        "plt.plot()"
      ],
      "metadata": {
        "colab": {
          "base_uri": "https://localhost:8080/",
          "height": 296
        },
        "id": "dzUOkWdM5002",
        "outputId": "dad3ea98-4633-48fe-f4ca-a870bc13e8e1"
      },
      "execution_count": null,
      "outputs": [
        {
          "output_type": "execute_result",
          "data": {
            "text/plain": [
              "[]"
            ]
          },
          "metadata": {},
          "execution_count": 10
        },
        {
          "output_type": "display_data",
          "data": {
            "text/plain": [
              "<Figure size 432x288 with 1 Axes>"
            ],
            "image/png": "[encoded data removed]"
          },
          "metadata": {
            "needs_background": "light"
          }
        }
      ]
    },
    {
      "cell_type": "code",
      "source": [
        "plt.figure(figsize = (15,15))\n",
        "sns.heatmap(data.corr(), annot = True, cmap = \"RdYlGn\")\n",
        "plt.show()"
      ],
      "metadata": {
        "id": "RE2-l3RUDSki",
        "colab": {
          "base_uri": "https://localhost:8080/",
          "height": 948
        },
        "outputId": "ea78bd25-b388-428b-d86e-a6713c273c12"
      },
      "execution_count": null,
      "outputs": [
        {
          "output_type": "display_data",
          "data": {
            "text/plain": [
              "<Figure size 1080x1080 with 2 Axes>"
            ],
            "image/png": "[encoded data removed]"
          },
          "metadata": {
            "needs_background": "light"
          }
        }
      ]
    },
    {
      "cell_type": "markdown",
      "source": [
        "Dropping Residence_type and id as they do not provide any useful information"
      ],
      "metadata": {
        "id": "LFz6WRgy2E9R"
      }
    },
    {
      "cell_type": "code",
      "source": [
        "y=data['stroke'].to_numpy()\n",
        "X=data.drop(['stroke','Residence_type','id'],axis=1)"
      ],
      "metadata": {
        "id": "blHWm309IibS"
      },
      "execution_count": null,
      "outputs": []
    },
    {
      "cell_type": "code",
      "source": [
        "scalar.fit(X)\n",
        "data_scaled=pd.DataFrame(scalar.transform(X))\n",
        "X_train,X_test,y_train,y_test=train_test_split(data_scaled,y,train_size=0.8,random_state=0)"
      ],
      "metadata": {
        "id": "BpDdUE0hGAqj"
      },
      "execution_count": null,
      "outputs": []
    },
    {
      "cell_type": "code",
      "source": [
        "data_scaled"
      ],
      "metadata": {
        "colab": {
          "base_uri": "https://localhost:8080/",
          "height": 423
        },
        "id": "SCp-CTWlHLeQ",
        "outputId": "ba8d977f-d410-4fee-830f-83fb26191195"
      },
      "execution_count": null,
      "outputs": [
        {
          "output_type": "execute_result",
          "data": {
            "text/plain": [
              "             0         1         2         3         4         5         6  \\\n",
              "0     1.198428  1.070138 -0.318067  4.381968  0.729484 -0.155697  2.777698   \n",
              "1     1.198428  1.646563 -0.318067  4.381968  0.729484 -0.155697  0.013842   \n",
              "2    -0.833023  0.272012 -0.318067 -0.228208  0.729484 -0.155697  1.484132   \n",
              "3    -0.833023  1.602222  3.143994 -0.228208  0.729484  0.759651  1.549193   \n",
              "4     1.198428  1.690903 -0.318067 -0.228208  0.729484 -0.155697  1.821368   \n",
              "...        ...       ...       ...       ...       ...       ...       ...   \n",
              "4904 -0.833023 -1.324241 -0.318067 -0.228208 -1.370831  1.674998 -0.050094   \n",
              "4905 -0.833023  1.690903 -0.318067 -0.228208  0.729484  0.759651  0.447882   \n",
              "4906 -0.833023 -0.348753 -0.318067 -0.228208  0.729484  0.759651 -0.502369   \n",
              "4907  1.198428  0.360692 -0.318067 -0.228208  0.729484 -0.155697  1.372920   \n",
              "4908 -0.833023  0.050310 -0.318067 -0.228208  0.729484 -1.986391 -0.450816   \n",
              "\n",
              "             7         8  \n",
              "0     0.981345 -0.351788  \n",
              "1     0.459269  0.585232  \n",
              "2     0.701207  1.522252  \n",
              "3    -0.623083  0.585232  \n",
              "4     0.013595 -0.351788  \n",
              "...        ...       ...  \n",
              "4904 -1.310695 -1.288808  \n",
              "4905  1.414286  0.585232  \n",
              "4906  0.217332  0.585232  \n",
              "4907 -0.419346 -0.351788  \n",
              "4908 -0.342945 -1.288808  \n",
              "\n",
              "[4909 rows x 9 columns]"
            ],
            "text/html": [
              "\n",
              "  <div id=\"df-df17cbc9-00a4-4ab7-be52-fe79fc974a54\">\n",
              "    <div class=\"colab-df-container\">\n",
              "      <div>\n",
              "<style scoped>\n",
              "    .dataframe tbody tr th:only-of-type {\n",
              "        vertical-align: middle;\n",
              "    }\n",
              "\n",
              "    .dataframe tbody tr th {\n",
              "        vertical-align: top;\n",
              "    }\n",
              "\n",
              "    .dataframe thead th {\n",
              "        text-align: right;\n",
              "    }\n",
              "</style>\n",
              "<table border=\"1\" class=\"dataframe\">\n",
              "  <thead>\n",
              "    <tr style=\"text-align: right;\">\n",
              "      <th></th>\n",
              "      <th>0</th>\n",
              "      <th>1</th>\n",
              "      <th>2</th>\n",
              "      <th>3</th>\n",
              "      <th>4</th>\n",
              "      <th>5</th>\n",
              "      <th>6</th>\n",
              "      <th>7</th>\n",
              "      <th>8</th>\n",
              "    </tr>\n",
              "  </thead>\n",
              "  <tbody>\n",
              "    <tr>\n",
              "      <th>0</th>\n",
              "      <td>1.198428</td>\n",
              "      <td>1.070138</td>\n",
              "      <td>-0.318067</td>\n",
              "      <td>4.381968</td>\n",
              "      <td>0.729484</td>\n",
              "      <td>-0.155697</td>\n",
              "      <td>2.777698</td>\n",
              "      <td>0.981345</td>\n",
              "      <td>-0.351788</td>\n",
              "    </tr>\n",
              "    <tr>\n",
              "      <th>1</th>\n",
              "      <td>1.198428</td>\n",
              "      <td>1.646563</td>\n",
              "      <td>-0.318067</td>\n",
              "      <td>4.381968</td>\n",
              "      <td>0.729484</td>\n",
              "      <td>-0.155697</td>\n",
              "      <td>0.013842</td>\n",
              "      <td>0.459269</td>\n",
              "      <td>0.585232</td>\n",
              "    </tr>\n",
              "    <tr>\n",
              "      <th>2</th>\n",
              "      <td>-0.833023</td>\n",
              "      <td>0.272012</td>\n",
              "      <td>-0.318067</td>\n",
              "      <td>-0.228208</td>\n",
              "      <td>0.729484</td>\n",
              "      <td>-0.155697</td>\n",
              "      <td>1.484132</td>\n",
              "      <td>0.701207</td>\n",
              "      <td>1.522252</td>\n",
              "    </tr>\n",
              "    <tr>\n",
              "      <th>3</th>\n",
              "      <td>-0.833023</td>\n",
              "      <td>1.602222</td>\n",
              "      <td>3.143994</td>\n",
              "      <td>-0.228208</td>\n",
              "      <td>0.729484</td>\n",
              "      <td>0.759651</td>\n",
              "      <td>1.549193</td>\n",
              "      <td>-0.623083</td>\n",
              "      <td>0.585232</td>\n",
              "    </tr>\n",
              "    <tr>\n",
              "      <th>4</th>\n",
              "      <td>1.198428</td>\n",
              "      <td>1.690903</td>\n",
              "      <td>-0.318067</td>\n",
              "      <td>-0.228208</td>\n",
              "      <td>0.729484</td>\n",
              "      <td>-0.155697</td>\n",
              "      <td>1.821368</td>\n",
              "      <td>0.013595</td>\n",
              "      <td>-0.351788</td>\n",
              "    </tr>\n",
              "    <tr>\n",
              "      <th>...</th>\n",
              "      <td>...</td>\n",
              "      <td>...</td>\n",
              "      <td>...</td>\n",
              "      <td>...</td>\n",
              "      <td>...</td>\n",
              "      <td>...</td>\n",
              "      <td>...</td>\n",
              "      <td>...</td>\n",
              "      <td>...</td>\n",
              "    </tr>\n",
              "    <tr>\n",
              "      <th>4904</th>\n",
              "      <td>-0.833023</td>\n",
              "      <td>-1.324241</td>\n",
              "      <td>-0.318067</td>\n",
              "      <td>-0.228208</td>\n",
              "      <td>-1.370831</td>\n",
              "      <td>1.674998</td>\n",
              "      <td>-0.050094</td>\n",
              "      <td>-1.310695</td>\n",
              "      <td>-1.288808</td>\n",
              "    </tr>\n",
              "    <tr>\n",
              "      <th>4905</th>\n",
              "      <td>-0.833023</td>\n",
              "      <td>1.690903</td>\n",
              "      <td>-0.318067</td>\n",
              "      <td>-0.228208</td>\n",
              "      <td>0.729484</td>\n",
              "      <td>0.759651</td>\n",
              "      <td>0.447882</td>\n",
              "      <td>1.414286</td>\n",
              "      <td>0.585232</td>\n",
              "    </tr>\n",
              "    <tr>\n",
              "      <th>4906</th>\n",
              "      <td>-0.833023</td>\n",
              "      <td>-0.348753</td>\n",
              "      <td>-0.318067</td>\n",
              "      <td>-0.228208</td>\n",
              "      <td>0.729484</td>\n",
              "      <td>0.759651</td>\n",
              "      <td>-0.502369</td>\n",
              "      <td>0.217332</td>\n",
              "      <td>0.585232</td>\n",
              "    </tr>\n",
              "    <tr>\n",
              "      <th>4907</th>\n",
              "      <td>1.198428</td>\n",
              "      <td>0.360692</td>\n",
              "      <td>-0.318067</td>\n",
              "      <td>-0.228208</td>\n",
              "      <td>0.729484</td>\n",
              "      <td>-0.155697</td>\n",
              "      <td>1.372920</td>\n",
              "      <td>-0.419346</td>\n",
              "      <td>-0.351788</td>\n",
              "    </tr>\n",
              "    <tr>\n",
              "      <th>4908</th>\n",
              "      <td>-0.833023</td>\n",
              "      <td>0.050310</td>\n",
              "      <td>-0.318067</td>\n",
              "      <td>-0.228208</td>\n",
              "      <td>0.729484</td>\n",
              "      <td>-1.986391</td>\n",
              "      <td>-0.450816</td>\n",
              "      <td>-0.342945</td>\n",
              "      <td>-1.288808</td>\n",
              "    </tr>\n",
              "  </tbody>\n",
              "</table>\n",
              "<p>4909 rows × 9 columns</p>\n",
              "</div>\n",
              "      <button class=\"colab-df-convert\" onclick=\"convertToInteractive('df-df17cbc9-00a4-4ab7-be52-fe79fc974a54')\"\n",
              "              title=\"Convert this dataframe to an interactive table.\"\n",
              "              style=\"display:none;\">\n",
              "        \n",
              "  <svg xmlns=\"http://www.w3.org/2000/svg\" height=\"24px\"viewBox=\"0 0 24 24\"\n",
              "       width=\"24px\">\n",
              "    <path d=\"M0 0h24v24H0V0z\" fill=\"none\"/>\n",
              "    <path d=\"M18.56 5.44l.94 2.06.94-2.06 2.06-.94-2.06-.94-.94-2.06-.94 2.06-2.06.94zm-11 1L8.5 8.5l.94-2.06 2.06-.94-2.06-.94L8.5 2.5l-.94 2.06-2.06.94zm10 10l.94 2.06.94-2.06 2.06-.94-2.06-.94-.94-2.06-.94 2.06-2.06.94z\"/><path d=\"M17.41 7.96l-1.37-1.37c-.4-.4-.92-.59-1.43-.59-.52 0-1.04.2-1.43.59L10.3 9.45l-7.72 7.72c-.78.78-.78 2.05 0 2.83L4 21.41c.39.39.9.59 1.41.59.51 0 1.02-.2 1.41-.59l7.78-7.78 2.81-2.81c.8-.78.8-2.07 0-2.86zM5.41 20L4 18.59l7.72-7.72 1.47 1.35L5.41 20z\"/>\n",
              "  </svg>\n",
              "      </button>\n",
              "      \n",
              "  <style>\n",
              "    .colab-df-container {\n",
              "      display:flex;\n",
              "      flex-wrap:wrap;\n",
              "      gap: 12px;\n",
              "    }\n",
              "\n",
              "    .colab-df-convert {\n",
              "      background-color: #E8F0FE;\n",
              "      border: none;\n",
              "      border-radius: 50%;\n",
              "      cursor: pointer;\n",
              "      display: none;\n",
              "      fill: #1967D2;\n",
              "      height: 32px;\n",
              "      padding: 0 0 0 0;\n",
              "      width: 32px;\n",
              "    }\n",
              "\n",
              "    .colab-df-convert:hover {\n",
              "      background-color: #E2EBFA;\n",
              "      box-shadow: 0px 1px 2px rgba(60, 64, 67, 0.3), 0px 1px 3px 1px rgba(60, 64, 67, 0.15);\n",
              "      fill: #174EA6;\n",
              "    }\n",
              "\n",
              "    [theme=dark] .colab-df-convert {\n",
              "      background-color: #3B4455;\n",
              "      fill: #D2E3FC;\n",
              "    }\n",
              "\n",
              "    [theme=dark] .colab-df-convert:hover {\n",
              "      background-color: #434B5C;\n",
              "      box-shadow: 0px 1px 3px 1px rgba(0, 0, 0, 0.15);\n",
              "      filter: drop-shadow(0px 1px 2px rgba(0, 0, 0, 0.3));\n",
              "      fill: #FFFFFF;\n",
              "    }\n",
              "  </style>\n",
              "\n",
              "      <script>\n",
              "        const buttonEl =\n",
              "          document.querySelector('#df-df17cbc9-00a4-4ab7-be52-fe79fc974a54 button.colab-df-convert');\n",
              "        buttonEl.style.display =\n",
              "          google.colab.kernel.accessAllowed ? 'block' : 'none';\n",
              "\n",
              "        async function convertToInteractive(key) {\n",
              "          const element = document.querySelector('#df-df17cbc9-00a4-4ab7-be52-fe79fc974a54');\n",
              "          const dataTable =\n",
              "            await google.colab.kernel.invokeFunction('convertToInteractive',\n",
              "                                                     [key], {});\n",
              "          if (!dataTable) return;\n",
              "\n",
              "          const docLinkHtml = 'Like what you see? Visit the ' +\n",
              "            '<a target=\"_blank\" href=https://colab.research.google.com/notebooks/data_table.ipynb>data table notebook</a>'\n",
              "            + ' to learn more about interactive tables.';\n",
              "          element.innerHTML = '';\n",
              "          dataTable['output_type'] = 'display_data';\n",
              "          await google.colab.output.renderOutput(dataTable, element);\n",
              "          const docLink = document.createElement('div');\n",
              "          docLink.innerHTML = docLinkHtml;\n",
              "          element.appendChild(docLink);\n",
              "        }\n",
              "      </script>\n",
              "    </div>\n",
              "  </div>\n",
              "  "
            ]
          },
          "metadata": {},
          "execution_count": 14
        }
      ]
    },
    {
      "cell_type": "code",
      "source": [
        "plt.figure(figsize = (15,15))\n",
        "sns.heatmap(data_scaled.corr(), annot = True, cmap = \"RdYlGn\")\n",
        "plt.show()"
      ],
      "metadata": {
        "colab": {
          "base_uri": "https://localhost:8080/",
          "height": 867
        },
        "id": "k0rYsK5bHndo",
        "outputId": "16650cac-d5c2-4567-b17b-c0439977a554"
      },
      "execution_count": null,
      "outputs": [
        {
          "output_type": "display_data",
          "data": {
            "text/plain": [
              "<Figure size 1080x1080 with 2 Axes>"
            ],
            "image/png": "[encoded data removed]"
          },
          "metadata": {
            "needs_background": "light"
          }
        }
      ]
    },
    {
      "cell_type": "markdown",
      "source": [
        "# Training Models"
      ],
      "metadata": {
        "id": "Un2jxAv0-E1O"
      }
    },
    {
      "cell_type": "code",
      "source": [
        "def plot_confusion_matrix_heatmap(y_actual,y_pred):\n",
        "  cnf_mat = metrics.confusion_matrix(y_actual, y_pred)\n",
        "  class_names=[0,1]\n",
        "  fig, axis = plt.subplots()\n",
        "  tick_marks = np.arange(len(class_names))\n",
        "  plt.xticks(tick_marks, class_names)\n",
        "  plt.yticks(tick_marks, class_names)\n",
        "  # Creating the heatmap of confusion mmatrix\n",
        "  sns.heatmap(pd.DataFrame(cnf_mat), annot=True, cmap=\"YlGnBu\" ,fmt='g')\n",
        "  plt.tight_layout()\n",
        "  plt.title('Confusion matrix', y=1.1)\n",
        "  plt.ylabel('Actual label')\n",
        "  plt.xlabel('Predicted label')"
      ],
      "metadata": {
        "id": "iWGEUcCRTlh3"
      },
      "execution_count": null,
      "outputs": []
    },
    {
      "cell_type": "markdown",
      "source": [
        "Random Forest Classifier"
      ],
      "metadata": {
        "id": "vB79-H6uQtLh"
      }
    },
    {
      "cell_type": "code",
      "source": [
        "from sklearn.ensemble import RandomForestClassifier\n",
        "RFC=RandomForestClassifier(max_features=4,n_estimators=1000)\n",
        "model=RFC.fit(X_train,y_train)\n",
        "y_pred=model.predict(X_test)\n",
        "print('Number of strokes predicted:',sum(y_pred))\n",
        "print('Actual number of strokes:',sum(y_test))\n",
        "print('Accuracy:',accuracy(y_test,y_pred))\n",
        "print('f1 score:',f1_score(y_test,y_pred))\n",
        "print(classification_report(y_test,y_pred))\n",
        "plot_confusion_matrix_heatmap(y_test,y_pred)"
      ],
      "metadata": {
        "id": "OmQ9U6POIDZK",
        "colab": {
          "base_uri": "https://localhost:8080/"
        },
        "outputId": "37cba19a-10a2-40a1-fc82-f10135db9b15"
      },
      "execution_count": null,
      "outputs": [
        {
          "output_type": "stream",
          "name": "stdout",
          "text": [
            "Number of strokes predicted: 1\n",
            "Actual number of strokes: 43\n",
            "Accuracy: 0.955193482688391\n",
            "f1 score: 0.0\n",
            "              precision    recall  f1-score   support\n",
            "\n",
            "           0       0.96      1.00      0.98       939\n",
            "           1       0.00      0.00      0.00        43\n",
            "\n",
            "    accuracy                           0.96       982\n",
            "   macro avg       0.48      0.50      0.49       982\n",
            "weighted avg       0.91      0.96      0.93       982\n",
            "\n"
          ]
        },
        {
          "output_type": "display_data",
          "data": {
            "text/plain": [
              "<Figure size 432x288 with 2 Axes>"
            ],
            "image/png": "[encoded data removed]"
          },
          "metadata": {
            "needs_background": "light"
          }
        }
      ]
    },
    {
      "cell_type": "markdown",
      "source": [
        "LightGBM"
      ],
      "metadata": {
        "id": "D477VjEtQRnF"
      }
    },
    {
      "cell_type": "code",
      "source": [
        "!pip install lightgbm\n",
        "import lightgbm as lgb"
      ],
      "metadata": {
        "colab": {
          "base_uri": "https://localhost:8080/"
        },
        "outputId": "03d53cfd-9cd2-458f-8968-2a0abc1b3ecb",
        "id": "EagWI1YXQRnF"
      },
      "execution_count": null,
      "outputs": [
        {
          "output_type": "stream",
          "name": "stdout",
          "text": [
            "Requirement already satisfied: lightgbm in /usr/local/lib/python3.7/dist-packages (2.2.3)\n",
            "Requirement already satisfied: scipy in /usr/local/lib/python3.7/dist-packages (from lightgbm) (1.4.1)\n",
            "Requirement already satisfied: scikit-learn in /usr/local/lib/python3.7/dist-packages (from lightgbm) (1.0.2)\n",
            "Requirement already satisfied: numpy in /usr/local/lib/python3.7/dist-packages (from lightgbm) (1.21.6)\n",
            "Requirement already satisfied: threadpoolctl>=2.0.0 in /usr/local/lib/python3.7/dist-packages (from scikit-learn->lightgbm) (3.1.0)\n",
            "Requirement already satisfied: joblib>=0.11 in /usr/local/lib/python3.7/dist-packages (from scikit-learn->lightgbm) (1.1.0)\n"
          ]
        }
      ]
    },
    {
      "cell_type": "code",
      "source": [
        "lgb_classifier=lgb.LGBMClassifier(learning_rate=0.5)\n",
        "model=lgb_classifier.fit(X_train,y_train)\n",
        "y_pred=model.predict(X_test)\n",
        "print('Number of strokes predicted:',sum(y_pred))\n",
        "print('Actual number of strokes:',sum(y_test))\n",
        "print('Accuracy:',accuracy(y_test,y_pred))\n",
        "print('f1 score:',f1_score(y_test,y_pred))\n",
        "print(classification_report(y_test,y_pred))\n",
        "plot_confusion_matrix_heatmap(y_test,y_pred)"
      ],
      "metadata": {
        "colab": {
          "base_uri": "https://localhost:8080/"
        },
        "outputId": "58549ba8-cae6-42cd-90fc-c4945265b9fe",
        "id": "SIQ0C1ofQRnF"
      },
      "execution_count": null,
      "outputs": [
        {
          "output_type": "stream",
          "name": "stdout",
          "text": [
            "Number of strokes predicted: 8\n",
            "Actual number of strokes: 43\n",
            "Accuracy: 0.9582484725050916\n",
            "f1 score: 0.19607843137254904\n",
            "              precision    recall  f1-score   support\n",
            "\n",
            "           0       0.96      1.00      0.98       939\n",
            "           1       0.62      0.12      0.20        43\n",
            "\n",
            "    accuracy                           0.96       982\n",
            "   macro avg       0.79      0.56      0.59       982\n",
            "weighted avg       0.95      0.96      0.94       982\n",
            "\n"
          ]
        },
        {
          "output_type": "display_data",
          "data": {
            "text/plain": [
              "<Figure size 432x288 with 2 Axes>"
            ],
            "image/png": "[encoded data removed]"
          },
          "metadata": {
            "needs_background": "light"
          }
        }
      ]
    },
    {
      "cell_type": "markdown",
      "source": [
        "LinearSVC"
      ],
      "metadata": {
        "id": "ibWvgkesQRnG"
      }
    },
    {
      "cell_type": "code",
      "source": [
        "from sklearn.svm import LinearSVC\n",
        "svm=LinearSVC(C=0.1)\n",
        "model=svm.fit(X_train,y_train)\n",
        "y_pred=model.predict(X_test)\n",
        "print('Number of strokes predicted:',sum(y_pred))\n",
        "print('Actual number of strokes:',sum(y_test))\n",
        "print('Accuracy:',accuracy(y_test,y_pred))\n",
        "print('f1 score:',f1_score(y_test,y_pred))\n",
        "print(classification_report(y_test,y_pred))\n",
        "plot_confusion_matrix_heatmap(y_test,y_pred)"
      ],
      "metadata": {
        "colab": {
          "base_uri": "https://localhost:8080/"
        },
        "outputId": "23af95fa-767e-4136-b0e0-b59011663d2c",
        "id": "QY-K2jwCQRnG"
      },
      "execution_count": null,
      "outputs": [
        {
          "output_type": "stream",
          "name": "stdout",
          "text": [
            "Number of strokes predicted: 0\n",
            "Actual number of strokes: 43\n",
            "Accuracy: 0.9562118126272913\n",
            "f1 score: 0.0\n",
            "              precision    recall  f1-score   support\n",
            "\n",
            "           0       0.96      1.00      0.98       939\n",
            "           1       0.00      0.00      0.00        43\n",
            "\n",
            "    accuracy                           0.96       982\n",
            "   macro avg       0.48      0.50      0.49       982\n",
            "weighted avg       0.91      0.96      0.93       982\n",
            "\n"
          ]
        },
        {
          "output_type": "display_data",
          "data": {
            "text/plain": [
              "<Figure size 432x288 with 2 Axes>"
            ],
            "image/png": "[encoded data removed]"
          },
          "metadata": {
            "needs_background": "light"
          }
        }
      ]
    },
    {
      "cell_type": "markdown",
      "source": [
        "Logistic Regression"
      ],
      "metadata": {
        "id": "59mbk0s9QRnG"
      }
    },
    {
      "cell_type": "code",
      "source": [
        "from sklearn.linear_model import LogisticRegression\n",
        "lgr=LogisticRegression(C=0.2,penalty='l2')\n",
        "model=lgr.fit(X_train,y_train)\n",
        "y_pred=model.predict(X_test)\n",
        "print('Number of strokes predicted:',sum(y_pred))\n",
        "print('Actual number of strokes:',sum(y_test))\n",
        "print('Accuracy:',accuracy(y_test,y_pred))\n",
        "print('f1 score:',f1_score(y_test,y_pred))\n",
        "print(classification_report(y_test,y_pred))\n",
        "plot_confusion_matrix_heatmap(y_test,y_pred)"
      ],
      "metadata": {
        "colab": {
          "base_uri": "https://localhost:8080/"
        },
        "outputId": "6bb2fe40-705f-4e7b-ac3e-39b6eb8f168d",
        "id": "PjlfspJTQRnG"
      },
      "execution_count": null,
      "outputs": [
        {
          "output_type": "stream",
          "name": "stdout",
          "text": [
            "Number of strokes predicted: 0\n",
            "Actual number of strokes: 43\n",
            "Accuracy: 0.9562118126272913\n",
            "f1 score: 0.0\n",
            "              precision    recall  f1-score   support\n",
            "\n",
            "           0       0.96      1.00      0.98       939\n",
            "           1       0.00      0.00      0.00        43\n",
            "\n",
            "    accuracy                           0.96       982\n",
            "   macro avg       0.48      0.50      0.49       982\n",
            "weighted avg       0.91      0.96      0.93       982\n",
            "\n"
          ]
        },
        {
          "output_type": "display_data",
          "data": {
            "text/plain": [
              "<Figure size 432x288 with 2 Axes>"
            ],
            "image/png": "[encoded data removed]"
          },
          "metadata": {
            "needs_background": "light"
          }
        }
      ]
    },
    {
      "cell_type": "markdown",
      "source": [
        "XGBoost"
      ],
      "metadata": {
        "id": "WPtEZj_RQRnH"
      }
    },
    {
      "cell_type": "code",
      "source": [
        "!pip install xgboost\n",
        "import xgboost as xgb"
      ],
      "metadata": {
        "colab": {
          "base_uri": "https://localhost:8080/"
        },
        "outputId": "4e2337e5-fec6-4f24-a489-f3a570d2f881",
        "id": "f_U6YsH_QRnH"
      },
      "execution_count": null,
      "outputs": [
        {
          "output_type": "stream",
          "name": "stdout",
          "text": [
            "Requirement already satisfied: xgboost in /usr/local/lib/python3.7/dist-packages (0.90)\n",
            "Requirement already satisfied: scipy in /usr/local/lib/python3.7/dist-packages (from xgboost) (1.4.1)\n",
            "Requirement already satisfied: numpy in /usr/local/lib/python3.7/dist-packages (from xgboost) (1.21.6)\n"
          ]
        }
      ]
    },
    {
      "cell_type": "code",
      "source": [
        "xgb_classifier=xgb.XGBClassifier(learning_rate=1.2)\n",
        "model=xgb_classifier.fit(X_train,y_train)\n",
        "y_pred=model.predict(X_test)\n",
        "print('Number of strokes predicted:',sum(y_pred))\n",
        "print('Actual number of strokes:',sum(y_test))\n",
        "print('Accuracy:',accuracy(y_test,y_pred))\n",
        "print('f1 score:',f1_score(y_test,y_pred))\n",
        "print(classification_report(y_test,y_pred))\n",
        "plot_confusion_matrix_heatmap(y_test,y_pred)"
      ],
      "metadata": {
        "colab": {
          "base_uri": "https://localhost:8080/"
        },
        "outputId": "27acd1f6-ea2c-439c-d434-5d37fe4d8134",
        "id": "zHn5DaqLQRnH"
      },
      "execution_count": null,
      "outputs": [
        {
          "output_type": "stream",
          "name": "stdout",
          "text": [
            "Number of strokes predicted: 15\n",
            "Actual number of strokes: 43\n",
            "Accuracy: 0.9490835030549898\n",
            "f1 score: 0.13793103448275862\n",
            "              precision    recall  f1-score   support\n",
            "\n",
            "           0       0.96      0.99      0.97       939\n",
            "           1       0.27      0.09      0.14        43\n",
            "\n",
            "    accuracy                           0.95       982\n",
            "   macro avg       0.61      0.54      0.56       982\n",
            "weighted avg       0.93      0.95      0.94       982\n",
            "\n"
          ]
        },
        {
          "output_type": "display_data",
          "data": {
            "text/plain": [
              "<Figure size 432x288 with 2 Axes>"
            ],
            "image/png": "[encoded data removed]"
          },
          "metadata": {
            "needs_background": "light"
          }
        }
      ]
    },
    {
      "cell_type": "markdown",
      "source": [
        "Decision Tree Classifier"
      ],
      "metadata": {
        "id": "WwJH1eBQQRnI"
      }
    },
    {
      "cell_type": "code",
      "source": [
        "from sklearn.tree import DecisionTreeClassifier\n",
        "dtclassifier = DecisionTreeClassifier(random_state = 0)\n",
        "model=dtclassifier.fit(X_train,y_train)\n",
        "y_pred=model.predict(X_test)\n",
        "print('Number of strokes predicted:',sum(y_pred))\n",
        "print('Actual number of strokes:',sum(y_test))\n",
        "print('Accuracy:',accuracy(y_test,y_pred))\n",
        "print('f1 score:',f1_score(y_test,y_pred))\n",
        "print(classification_report(y_test,y_pred))\n",
        "plot_confusion_matrix_heatmap(y_test,y_pred)"
      ],
      "metadata": {
        "colab": {
          "base_uri": "https://localhost:8080/"
        },
        "outputId": "ed5c4a2a-3ef9-4039-f30f-4aa9bed7e876",
        "id": "7bTKPBItQRnI"
      },
      "execution_count": null,
      "outputs": [
        {
          "output_type": "stream",
          "name": "stdout",
          "text": [
            "Number of strokes predicted: 47\n",
            "Actual number of strokes: 43\n",
            "Accuracy: 0.9185336048879837\n",
            "f1 score: 0.11111111111111112\n",
            "              precision    recall  f1-score   support\n",
            "\n",
            "           0       0.96      0.96      0.96       939\n",
            "           1       0.11      0.12      0.11        43\n",
            "\n",
            "    accuracy                           0.92       982\n",
            "   macro avg       0.53      0.54      0.53       982\n",
            "weighted avg       0.92      0.92      0.92       982\n",
            "\n"
          ]
        },
        {
          "output_type": "display_data",
          "data": {
            "text/plain": [
              "<Figure size 432x288 with 2 Axes>"
            ],
            "image/png": "[encoded data removed]"
          },
          "metadata": {
            "needs_background": "light"
          }
        }
      ]
    },
    {
      "cell_type": "markdown",
      "source": [
        "In most models, recall of strokes is low and very few number of strokes are predicted. So we try to increase the number of strokes in the training data."
      ],
      "metadata": {
        "id": "yNgQzihT-h-E"
      }
    },
    {
      "cell_type": "markdown",
      "source": [
        "# Training models on oversampled+undersampled data"
      ],
      "metadata": {
        "id": "EJKLfepEP9Hs"
      }
    },
    {
      "cell_type": "code",
      "source": [
        "from imblearn.over_sampling import SMOTE\n",
        "from imblearn.under_sampling import RandomUnderSampler\n",
        "from imblearn.pipeline import Pipeline\n",
        "over = SMOTE(sampling_strategy=0.2, random_state=42)\n",
        "under = RandomUnderSampler(sampling_strategy=0.2, random_state=42)\n",
        "steps = [('o', over), ('u', under)]\n",
        "over_under_pipeline = Pipeline(steps=steps)"
      ],
      "metadata": {
        "id": "Pwtq635RI-G-"
      },
      "execution_count": null,
      "outputs": []
    },
    {
      "cell_type": "code",
      "source": [
        "X_train_resample, y_train_resample=over_under_pipeline.fit_resample(X_train,y_train)"
      ],
      "metadata": {
        "id": "_bxz2yBcADZd"
      },
      "execution_count": null,
      "outputs": []
    },
    {
      "cell_type": "code",
      "source": [
        "sns.countplot(y_train_resample)\n",
        "plt.plot()"
      ],
      "metadata": {
        "colab": {
          "base_uri": "https://localhost:8080/",
          "height": 282
        },
        "id": "a1HJ_CHiGRRM",
        "outputId": "b9ba2637-1908-4b00-fc7e-1320a13b9d1d"
      },
      "execution_count": null,
      "outputs": [
        {
          "output_type": "execute_result",
          "data": {
            "text/plain": [
              "[]"
            ]
          },
          "metadata": {},
          "execution_count": 27
        },
        {
          "output_type": "display_data",
          "data": {
            "text/plain": [
              "<Figure size 432x288 with 1 Axes>"
            ],
            "image/png": "[encoded data removed]"
          },
          "metadata": {
            "needs_background": "light"
          }
        }
      ]
    },
    {
      "cell_type": "code",
      "source": [
        "RFC=RandomForestClassifier(max_features=4,n_estimators=1000)\n",
        "model=RFC.fit(X_train_resample,y_train_resample)\n",
        "y_pred=model.predict(X_test)\n",
        "print('Number of strokes predicted:',sum(y_pred))\n",
        "print('Actual number of strokes:',sum(y_test))\n",
        "print('Accuracy:',accuracy(y_test,y_pred))\n",
        "print('f1 score:',f1_score(y_test,y_pred))\n",
        "print(classification_report(y_test,y_pred))\n",
        "plot_confusion_matrix_heatmap(y_test,y_pred)"
      ],
      "metadata": {
        "colab": {
          "base_uri": "https://localhost:8080/",
          "height": 553
        },
        "id": "QNmalYd1-9Qt",
        "outputId": "fce110e5-5bf9-4615-b1c0-3d8a1e29ca61"
      },
      "execution_count": null,
      "outputs": [
        {
          "output_type": "stream",
          "name": "stdout",
          "text": [
            "Number of strokes predicted: 16\n",
            "Actual number of strokes: 43\n",
            "Accuracy: 0.9460285132382892\n",
            "f1 score: 0.10169491525423728\n",
            "              precision    recall  f1-score   support\n",
            "\n",
            "           0       0.96      0.99      0.97       939\n",
            "           1       0.19      0.07      0.10        43\n",
            "\n",
            "    accuracy                           0.95       982\n",
            "   macro avg       0.57      0.53      0.54       982\n",
            "weighted avg       0.92      0.95      0.93       982\n",
            "\n"
          ]
        },
        {
          "output_type": "display_data",
          "data": {
            "text/plain": [
              "<Figure size 432x288 with 2 Axes>"
            ],
            "image/png": "[encoded data removed]"
          },
          "metadata": {
            "needs_background": "light"
          }
        }
      ]
    },
    {
      "cell_type": "markdown",
      "source": [
        "LightGBM"
      ],
      "metadata": {
        "id": "XVIWEPDgGlLy"
      }
    },
    {
      "cell_type": "code",
      "source": [
        "!pip install lightgbm\n",
        "import lightgbm as lgb"
      ],
      "metadata": {
        "colab": {
          "base_uri": "https://localhost:8080/"
        },
        "id": "P7YtVRUAGc-m",
        "outputId": "4d1656c1-6151-44da-912d-996741c93175"
      },
      "execution_count": null,
      "outputs": [
        {
          "output_type": "stream",
          "name": "stdout",
          "text": [
            "Requirement already satisfied: lightgbm in /usr/local/lib/python3.7/dist-packages (2.2.3)\n",
            "Requirement already satisfied: scipy in /usr/local/lib/python3.7/dist-packages (from lightgbm) (1.4.1)\n",
            "Requirement already satisfied: scikit-learn in /usr/local/lib/python3.7/dist-packages (from lightgbm) (1.0.2)\n",
            "Requirement already satisfied: numpy in /usr/local/lib/python3.7/dist-packages (from lightgbm) (1.21.6)\n",
            "Requirement already satisfied: joblib>=0.11 in /usr/local/lib/python3.7/dist-packages (from scikit-learn->lightgbm) (1.1.0)\n",
            "Requirement already satisfied: threadpoolctl>=2.0.0 in /usr/local/lib/python3.7/dist-packages (from scikit-learn->lightgbm) (3.1.0)\n"
          ]
        }
      ]
    },
    {
      "cell_type": "code",
      "source": [
        "lgb_classifier=lgb.LGBMClassifier(learning_rate=0.5)\n",
        "model=lgb_classifier.fit(X_train_resample,y_train_resample)\n",
        "y_pred=model.predict(X_test)\n",
        "print('Number of strokes predicted:',sum(y_pred))\n",
        "print('Actual number of strokes:',sum(y_test))\n",
        "print('Accuracy:',accuracy(y_test,y_pred))\n",
        "print('f1 score:',f1_score(y_test,y_pred))\n",
        "print(classification_report(y_test,y_pred))\n",
        "plot_confusion_matrix_heatmap(y_test,y_pred)"
      ],
      "metadata": {
        "colab": {
          "base_uri": "https://localhost:8080/",
          "height": 553
        },
        "id": "kQZ_Ie67Gp3d",
        "outputId": "84f5ff79-274f-4d56-a58a-9ca90afb5eda"
      },
      "execution_count": null,
      "outputs": [
        {
          "output_type": "stream",
          "name": "stdout",
          "text": [
            "Number of strokes predicted: 28\n",
            "Actual number of strokes: 43\n",
            "Accuracy: 0.9419551934826884\n",
            "f1 score: 0.1971830985915493\n",
            "              precision    recall  f1-score   support\n",
            "\n",
            "           0       0.96      0.98      0.97       939\n",
            "           1       0.25      0.16      0.20        43\n",
            "\n",
            "    accuracy                           0.94       982\n",
            "   macro avg       0.61      0.57      0.58       982\n",
            "weighted avg       0.93      0.94      0.94       982\n",
            "\n"
          ]
        },
        {
          "output_type": "display_data",
          "data": {
            "text/plain": [
              "<Figure size 432x288 with 2 Axes>"
            ],
            "image/png": "[encoded data removed]"
          },
          "metadata": {
            "needs_background": "light"
          }
        }
      ]
    },
    {
      "cell_type": "markdown",
      "source": [
        "LinearSVC"
      ],
      "metadata": {
        "id": "iy-KChtQIRgy"
      }
    },
    {
      "cell_type": "code",
      "source": [
        "from sklearn.svm import LinearSVC\n",
        "svm=LinearSVC(C=0.1)\n",
        "model=svm.fit(X_train_resample,y_train_resample)\n",
        "y_pred=model.predict(X_test)\n",
        "print('Number of strokes predicted:',sum(y_pred))\n",
        "print('Actual number of strokes:',sum(y_test))\n",
        "print('Accuracy:',accuracy(y_test,y_pred))\n",
        "print('f1 score:',f1_score(y_test,y_pred))\n",
        "print(classification_report(y_test,y_pred))\n",
        "plot_confusion_matrix_heatmap(y_test,y_pred)"
      ],
      "metadata": {
        "colab": {
          "base_uri": "https://localhost:8080/",
          "height": 553
        },
        "id": "tmLnuwkIIaRd",
        "outputId": "1ab57e0a-9c76-4783-d406-0879b48e8a35"
      },
      "execution_count": null,
      "outputs": [
        {
          "output_type": "stream",
          "name": "stdout",
          "text": [
            "Number of strokes predicted: 38\n",
            "Actual number of strokes: 43\n",
            "Accuracy: 0.9358452138492872\n",
            "f1 score: 0.2222222222222222\n",
            "              precision    recall  f1-score   support\n",
            "\n",
            "           0       0.96      0.97      0.97       939\n",
            "           1       0.24      0.21      0.22        43\n",
            "\n",
            "    accuracy                           0.94       982\n",
            "   macro avg       0.60      0.59      0.59       982\n",
            "weighted avg       0.93      0.94      0.93       982\n",
            "\n"
          ]
        },
        {
          "output_type": "display_data",
          "data": {
            "text/plain": [
              "<Figure size 432x288 with 2 Axes>"
            ],
            "image/png": "[encoded data removed]"
          },
          "metadata": {
            "needs_background": "light"
          }
        }
      ]
    },
    {
      "cell_type": "markdown",
      "source": [
        "Logistic Regression"
      ],
      "metadata": {
        "id": "AjuL7bI5JEOQ"
      }
    },
    {
      "cell_type": "code",
      "source": [
        "from sklearn.linear_model import LogisticRegression\n",
        "lgr=LogisticRegression(C=0.2,penalty='l2')\n",
        "model=lgr.fit(X_train_resample,y_train_resample)\n",
        "y_pred=model.predict(X_test)\n",
        "print('Number of strokes predicted:',sum(y_pred))\n",
        "print('Actual number of strokes:',sum(y_test))\n",
        "print('Accuracy:',accuracy(y_test,y_pred))\n",
        "print('f1 score:',f1_score(y_test,y_pred))\n",
        "print(classification_report(y_test,y_pred))\n",
        "plot_confusion_matrix_heatmap(y_test,y_pred)"
      ],
      "metadata": {
        "colab": {
          "base_uri": "https://localhost:8080/",
          "height": 553
        },
        "id": "rB2UZs2HJS5X",
        "outputId": "6014480e-d172-4797-ce3f-a4e31f598f42"
      },
      "execution_count": null,
      "outputs": [
        {
          "output_type": "stream",
          "name": "stdout",
          "text": [
            "Number of strokes predicted: 52\n",
            "Actual number of strokes: 43\n",
            "Accuracy: 0.9276985743380856\n",
            "f1 score: 0.25263157894736843\n",
            "              precision    recall  f1-score   support\n",
            "\n",
            "           0       0.97      0.96      0.96       939\n",
            "           1       0.23      0.28      0.25        43\n",
            "\n",
            "    accuracy                           0.93       982\n",
            "   macro avg       0.60      0.62      0.61       982\n",
            "weighted avg       0.93      0.93      0.93       982\n",
            "\n"
          ]
        },
        {
          "output_type": "display_data",
          "data": {
            "text/plain": [
              "<Figure size 432x288 with 2 Axes>"
            ],
            "image/png": "[encoded data removed]"
          },
          "metadata": {
            "needs_background": "light"
          }
        }
      ]
    },
    {
      "cell_type": "markdown",
      "source": [
        "XGBoost"
      ],
      "metadata": {
        "id": "q3PgN34MKa1i"
      }
    },
    {
      "cell_type": "code",
      "source": [
        "!pip install xgboost\n",
        "import xgboost as xgb"
      ],
      "metadata": {
        "colab": {
          "base_uri": "https://localhost:8080/"
        },
        "id": "DYm_clRyNCyV",
        "outputId": "1192f788-c0c7-4964-9f57-c1823d5e0291"
      },
      "execution_count": null,
      "outputs": [
        {
          "output_type": "stream",
          "name": "stdout",
          "text": [
            "Requirement already satisfied: xgboost in /usr/local/lib/python3.7/dist-packages (0.90)\n",
            "Requirement already satisfied: numpy in /usr/local/lib/python3.7/dist-packages (from xgboost) (1.21.6)\n",
            "Requirement already satisfied: scipy in /usr/local/lib/python3.7/dist-packages (from xgboost) (1.4.1)\n"
          ]
        }
      ]
    },
    {
      "cell_type": "code",
      "source": [
        "xgb_classifier=xgb.XGBClassifier(learning_rate=1.2)\n",
        "model=xgb_classifier.fit(X_train_resample,y_train_resample)\n",
        "y_pred=model.predict(X_test)\n",
        "print('Number of strokes predicted:',sum(y_pred))\n",
        "print('Actual number of strokes:',sum(y_test))\n",
        "print('Accuracy:',accuracy(y_test,y_pred))\n",
        "print('f1 score:',f1_score(y_test,y_pred))\n",
        "print(classification_report(y_test,y_pred))\n",
        "plot_confusion_matrix_heatmap(y_test,y_pred)"
      ],
      "metadata": {
        "colab": {
          "base_uri": "https://localhost:8080/",
          "height": 553
        },
        "id": "Aqux0NNJNQFc",
        "outputId": "4ce5348f-3819-4694-96f2-3abcf08bc3e0"
      },
      "execution_count": null,
      "outputs": [
        {
          "output_type": "stream",
          "name": "stdout",
          "text": [
            "Number of strokes predicted: 23\n",
            "Actual number of strokes: 43\n",
            "Accuracy: 0.9389002036659878\n",
            "f1 score: 0.09090909090909091\n",
            "              precision    recall  f1-score   support\n",
            "\n",
            "           0       0.96      0.98      0.97       939\n",
            "           1       0.13      0.07      0.09        43\n",
            "\n",
            "    accuracy                           0.94       982\n",
            "   macro avg       0.54      0.52      0.53       982\n",
            "weighted avg       0.92      0.94      0.93       982\n",
            "\n"
          ]
        },
        {
          "output_type": "display_data",
          "data": {
            "text/plain": [
              "<Figure size 432x288 with 2 Axes>"
            ],
            "image/png": "[encoded data removed]"
          },
          "metadata": {
            "needs_background": "light"
          }
        }
      ]
    },
    {
      "cell_type": "markdown",
      "source": [
        "Decision Tree Classifier"
      ],
      "metadata": {
        "id": "jpZx6SZSO-rc"
      }
    },
    {
      "cell_type": "code",
      "source": [
        "from sklearn.tree import DecisionTreeClassifier\n",
        "dtclassifier = DecisionTreeClassifier(random_state = 0)\n",
        "model=dtclassifier.fit(X_train_resample,y_train_resample)\n",
        "y_pred=model.predict(X_test)\n",
        "print('Number of strokes predicted:',sum(y_pred))\n",
        "print('Actual number of strokes:',sum(y_test))\n",
        "print('Accuracy:',accuracy(y_test,y_pred))\n",
        "print('f1 score:',f1_score(y_test,y_pred))\n",
        "print(classification_report(y_test,y_pred))\n",
        "plot_confusion_matrix_heatmap(y_test,y_pred)"
      ],
      "metadata": {
        "colab": {
          "base_uri": "https://localhost:8080/",
          "height": 553
        },
        "id": "ad5xxwSbPOpd",
        "outputId": "6de19ff2-0a14-4bef-e572-4eb46b3f1084"
      },
      "execution_count": null,
      "outputs": [
        {
          "output_type": "stream",
          "name": "stdout",
          "text": [
            "Number of strokes predicted: 72\n",
            "Actual number of strokes: 43\n",
            "Accuracy: 0.8869653767820774\n",
            "f1 score: 0.03478260869565217\n",
            "              precision    recall  f1-score   support\n",
            "\n",
            "           0       0.95      0.93      0.94       939\n",
            "           1       0.03      0.05      0.03        43\n",
            "\n",
            "    accuracy                           0.89       982\n",
            "   macro avg       0.49      0.49      0.49       982\n",
            "weighted avg       0.91      0.89      0.90       982\n",
            "\n"
          ]
        },
        {
          "output_type": "display_data",
          "data": {
            "text/plain": [
              "<Figure size 432x288 with 2 Axes>"
            ],
            "image/png": "[encoded data removed]"
          },
          "metadata": {
            "needs_background": "light"
          }
        }
      ]
    },
    {
      "cell_type": "markdown",
      "source": [
        "We can see from the results that Logistic Regression on oversampled+undersampled data has performed the best as it gives highest number of correctly identified strokes (confusion matrix) and also the highest f1-score."
      ],
      "metadata": {
        "id": "2xZkdUiYXGtt"
      }
    },
    {
      "cell_type": "markdown",
      "source": [
        "# Training Logistic Regression on oversampled TRAIN data"
      ],
      "metadata": {
        "id": "ta8QezJj82y2"
      }
    },
    {
      "cell_type": "code",
      "source": [
        "oversample=SMOTE(sampling_strategy=1, random_state=42)"
      ],
      "metadata": {
        "id": "QIwgig8k9hgg"
      },
      "execution_count": null,
      "outputs": []
    },
    {
      "cell_type": "code",
      "source": [
        "X_train_oversample, y_train_oversample=oversample.fit_resample(X_train,y_train)"
      ],
      "metadata": {
        "id": "ahz55o0u9hgl"
      },
      "execution_count": null,
      "outputs": []
    },
    {
      "cell_type": "code",
      "source": [
        "from sklearn.linear_model import LogisticRegression\n",
        "lgr=LogisticRegression(C=0.2,penalty='l2')\n",
        "model=lgr.fit(X_train_oversample,y_train_oversample)\n",
        "y_pred_oversample=model.predict(X_test)\n",
        "print('Number of strokes predicted:',sum(y_pred_oversample))\n",
        "print('Actual number of strokes:',sum(y_test))\n",
        "print('Accuracy:',accuracy(y_test,y_pred_oversample))\n",
        "print('f1 score:',f1_score(y_test,y_pred_oversample))\n",
        "print('recall:',sensitivity(y_test,y_pred_oversample))\n",
        "print(classification_report(y_test,y_pred_oversample))\n",
        "plot_confusion_matrix_heatmap(y_test,y_pred_oversample)"
      ],
      "metadata": {
        "colab": {
          "base_uri": "https://localhost:8080/",
          "height": 570
        },
        "outputId": "9271ec12-8f1b-4825-e2a5-7f7c8c9545d9",
        "id": "eFqD5yoU9hgl"
      },
      "execution_count": null,
      "outputs": [
        {
          "output_type": "stream",
          "name": "stdout",
          "text": [
            "Number of strokes predicted: 288\n",
            "Actual number of strokes: 43\n",
            "Accuracy: 0.7321792260692465\n",
            "f1 score: 0.20543806646525678\n",
            "recall: 0.7906976744186046\n",
            "              precision    recall  f1-score   support\n",
            "\n",
            "           0       0.99      0.73      0.84       939\n",
            "           1       0.12      0.79      0.21        43\n",
            "\n",
            "    accuracy                           0.73       982\n",
            "   macro avg       0.55      0.76      0.52       982\n",
            "weighted avg       0.95      0.73      0.81       982\n",
            "\n"
          ]
        },
        {
          "output_type": "display_data",
          "data": {
            "text/plain": [
              "<Figure size 432x288 with 2 Axes>"
            ],
            "image/png": "[encoded data removed]"
          },
          "metadata": {
            "needs_background": "light"
          }
        }
      ]
    },
    {
      "cell_type": "markdown",
      "source": [
        "This is the best model in terms of recall hence futher fine tuning to get a balance between recall and f1 score"
      ],
      "metadata": {
        "id": "2rFUYW2x9hgl"
      }
    },
    {
      "cell_type": "code",
      "source": [
        "y_pred_oversample1=model.predict_proba(X_test)\n",
        "f1=[]\n",
        "rc=[]\n",
        "for j in range(50,86,5):\n",
        "  y_pred_oversample=[]\n",
        "  for i in y_pred_oversample1:\n",
        "    if(i[1]<=j/100):\n",
        "      y_pred_oversample.append(0)\n",
        "    else:\n",
        "      y_pred_oversample.append(1)\n",
        "  f1.append(f1_score(y_test,y_pred_oversample))\n",
        "  rc.append(sensitivity(y_test,y_pred_oversample))\n",
        "  print('For threshold =',j,'%')\n",
        "  print('f1 score:','       ',f1_score(y_test,y_pred_oversample))\n",
        "  print('recall:','         ',sensitivity(y_test,y_pred_oversample))\n",
        "  print()"
      ],
      "metadata": {
        "colab": {
          "base_uri": "https://localhost:8080/"
        },
        "outputId": "040113c1-7f00-4769-a1a7-49a96c608da5",
        "id": "1pjNo6th9hgm"
      },
      "execution_count": null,
      "outputs": [
        {
          "output_type": "stream",
          "name": "stdout",
          "text": [
            "For threshold = 50 %\n",
            "f1 score:         0.20543806646525678\n",
            "recall:           0.7906976744186046\n",
            "\n",
            "For threshold = 55 %\n",
            "f1 score:         0.20462046204620463\n",
            "recall:           0.7209302325581395\n",
            "\n",
            "For threshold = 60 %\n",
            "f1 score:         0.21402214022140226\n",
            "recall:           0.6744186046511628\n",
            "\n",
            "For threshold = 65 %\n",
            "f1 score:         0.22594142259414227\n",
            "recall:           0.627906976744186\n",
            "\n",
            "For threshold = 70 %\n",
            "f1 score:         0.23076923076923078\n",
            "recall:           0.5581395348837209\n",
            "\n",
            "For threshold = 75 %\n",
            "f1 score:         0.2658959537572254\n",
            "recall:           0.5348837209302325\n",
            "\n",
            "For threshold = 80 %\n",
            "f1 score:         0.2481751824817518\n",
            "recall:           0.3953488372093023\n",
            "\n",
            "For threshold = 85 %\n",
            "f1 score:         0.24742268041237117\n",
            "recall:           0.27906976744186046\n",
            "\n"
          ]
        }
      ]
    },
    {
      "cell_type": "code",
      "source": [
        "plt.plot(range(50,86,5),rc,c='r')\n",
        "plt.plot(range(50,86,5),f1,c='b')\n",
        "point1 = [65,0.6279]\n",
        "point2 = [65,0.2295]\n",
        "x_values = [point1[0], point2[0]]\n",
        "y_values = [point1[1], point2[1]]\n",
        "plt.plot(x_values, y_values,c='black')\n",
        "plt.plot(65,0.6279,'g*')\n",
        "plt.plot(65,0.2295,'g*')\n",
        "plt.legend(['Recall','F1','Optimal Difference',])\n",
        "plt.ylabel(\"Score\")\n",
        "plt.xlabel('Threshold')\n",
        "plt.show()"
      ],
      "metadata": {
        "colab": {
          "base_uri": "https://localhost:8080/",
          "height": 279
        },
        "outputId": "1bd237b1-5bd9-4f8a-dd7b-bae4961dfaf3",
        "id": "NIulATxk9hgm"
      },
      "execution_count": null,
      "outputs": [
        {
          "output_type": "display_data",
          "data": {
            "text/plain": [
              "<Figure size 432x288 with 1 Axes>"
            ],
            "image/png": "[encoded data removed]"
          },
          "metadata": {
            "needs_background": "light"
          }
        }
      ]
    },
    {
      "cell_type": "code",
      "source": [
        "y_pred_oversample1=model.predict_proba(X_test)\n",
        "y_pred_oversample=[]\n",
        "for i in y_pred_oversample1:\n",
        "    if(i[1]<=0.65):\n",
        "      y_pred_oversample.append(0)\n",
        "    else:\n",
        "      y_pred_oversample.append(1)"
      ],
      "metadata": {
        "id": "zAHueWxL9hgm"
      },
      "execution_count": null,
      "outputs": []
    },
    {
      "cell_type": "code",
      "source": [
        "print('Number of strokes predicted:',sum(y_pred_oversample))\n",
        "print('Actual number of strokes:',sum(y_test))\n",
        "print('Accuracy:',accuracy(y_test,y_pred_oversample))\n",
        "print('f1 score:',f1_score(y_test,y_pred_oversample))\n",
        "print('recall:',sensitivity(y_test,y_pred_oversample))\n",
        "print(classification_report(y_test,y_pred_oversample))\n",
        "plot_confusion_matrix_heatmap(y_test,y_pred_oversample)"
      ],
      "metadata": {
        "colab": {
          "base_uri": "https://localhost:8080/",
          "height": 570
        },
        "outputId": "e195f98a-0b23-474e-dd78-ba27153678fd",
        "id": "hmialZEa9hgm"
      },
      "execution_count": null,
      "outputs": [
        {
          "output_type": "stream",
          "name": "stdout",
          "text": [
            "Number of strokes predicted: 196\n",
            "Actual number of strokes: 43\n",
            "Accuracy: 0.8116089613034623\n",
            "f1 score: 0.22594142259414227\n",
            "recall: 0.627906976744186\n",
            "              precision    recall  f1-score   support\n",
            "\n",
            "           0       0.98      0.82      0.89       939\n",
            "           1       0.14      0.63      0.23        43\n",
            "\n",
            "    accuracy                           0.81       982\n",
            "   macro avg       0.56      0.72      0.56       982\n",
            "weighted avg       0.94      0.81      0.86       982\n",
            "\n"
          ]
        },
        {
          "output_type": "display_data",
          "data": {
            "text/plain": [
              "<Figure size 432x288 with 2 Axes>"
            ],
            "image/png": "[encoded data removed]"
          },
          "metadata": {
            "needs_background": "light"
          }
        }
      ]
    },
    {
      "cell_type": "markdown",
      "source": [
        "# Note"
      ],
      "metadata": {
        "id": "45ZA42Wh_CyM"
      }
    },
    {
      "cell_type": "markdown",
      "source": [
        "Oversampling the test data along with the train data will show better results. However, this must not be done as the test data is not meant to be modified using oversampling and/or undersampling. Doing this leads to better results on the modified test data but, the model will give bad results on any new data as this leads to loss in generalizability of the model.\n",
        "\n",
        "> Hence we use oversampling on **training** data and leave the testing data untouched for final pipeline\n",
        "\n",
        "\n",
        "> however we have shown what happens when we oversample the **test** data\n",
        "\n",
        "\n",
        "\n",
        "\n"
      ],
      "metadata": {
        "id": "raTTf8gF_Fo6"
      }
    },
    {
      "cell_type": "code",
      "source": [
        "oversample=SMOTE(sampling_strategy=1, random_state=42)"
      ],
      "metadata": {
        "id": "OTYvU_WUB-4S"
      },
      "execution_count": null,
      "outputs": []
    },
    {
      "cell_type": "code",
      "source": [
        "X_train_oversample, y_train_oversample=oversample.fit_resample(X_train,y_train)"
      ],
      "metadata": {
        "id": "-P4Qb43FCDqc"
      },
      "execution_count": null,
      "outputs": []
    },
    {
      "cell_type": "code",
      "source": [
        "X_test_oversample, y_test_oversample=oversample.fit_resample(X_test,y_test)"
      ],
      "metadata": {
        "id": "NFGGzpYu_FHv"
      },
      "execution_count": null,
      "outputs": []
    },
    {
      "cell_type": "code",
      "source": [
        "from sklearn.linear_model import LogisticRegression\n",
        "lgr=LogisticRegression(C=0.2,penalty='l2')\n",
        "model=lgr.fit(X_train_oversample,y_train_oversample)\n",
        "y_pred_oversample=model.predict(X_test_oversample)\n",
        "print('Number of strokes predicted:',sum(y_pred_oversample))\n",
        "print('Actual number of strokes:',sum(y_test_oversample))\n",
        "print('Accuracy:',accuracy(y_test_oversample,y_pred_oversample))\n",
        "print('f1 score:',f1_score(y_test_oversample,y_pred_oversample))\n",
        "print('recall:',sensitivity(y_test_oversample,y_pred_oversample))\n",
        "print(classification_report(y_test_oversample,y_pred_oversample))\n",
        "plot_confusion_matrix_heatmap(y_test_oversample,y_pred_oversample)"
      ],
      "metadata": {
        "colab": {
          "base_uri": "https://localhost:8080/",
          "height": 570
        },
        "id": "FCBJJGmdAvkA",
        "outputId": "50f8a8ca-8102-4d8c-83b4-8a74cd1da42c"
      },
      "execution_count": null,
      "outputs": [
        {
          "output_type": "stream",
          "name": "stdout",
          "text": [
            "Number of strokes predicted: 1037\n",
            "Actual number of strokes: 939\n",
            "Accuracy: 0.7816826411075612\n",
            "f1 score: 0.7925101214574898\n",
            "recall: 0.8338658146964856\n",
            "              precision    recall  f1-score   support\n",
            "\n",
            "           0       0.81      0.73      0.77       939\n",
            "           1       0.76      0.83      0.79       939\n",
            "\n",
            "    accuracy                           0.78      1878\n",
            "   macro avg       0.78      0.78      0.78      1878\n",
            "weighted avg       0.78      0.78      0.78      1878\n",
            "\n"
          ]
        },
        {
          "output_type": "display_data",
          "data": {
            "text/plain": [
              "<Figure size 432x288 with 2 Axes>"
            ],
            "image/png": "[encoded data removed]"
          },
          "metadata": {
            "needs_background": "light"
          }
        }
      ]
    },
    {
      "cell_type": "markdown",
      "source": [
        "# Creating the pipeline"
      ],
      "metadata": {
        "id": "txKCxiFwDhZG"
      }
    },
    {
      "cell_type": "markdown",
      "source": [
        "Getting the un-preprocessed test data"
      ],
      "metadata": {
        "id": "H-UR6YjXKEDG"
      }
    },
    {
      "cell_type": "code",
      "source": [
        "data=pd.read_csv('/content/healthcare-dataset-stroke-data.csv')\n",
        "data=data.dropna()"
      ],
      "metadata": {
        "id": "4__AKG3HjgYb"
      },
      "execution_count": null,
      "outputs": []
    },
    {
      "cell_type": "code",
      "source": [
        "_,X_test_pipe,_,y_test_pipe=train_test_split(data.drop(columns=['stroke']).to_numpy(),data['stroke'].to_numpy(),train_size=0.8,random_state=0)"
      ],
      "metadata": {
        "id": "IiX18N46ETY2"
      },
      "execution_count": null,
      "outputs": []
    },
    {
      "cell_type": "code",
      "source": [
        "lbcode_gender=LabelEncoder()\n",
        "lbcode_ever_married=LabelEncoder()\n",
        "lbcode_work=LabelEncoder()\n",
        "lbcode_residence=LabelEncoder()\n",
        "lbcode_smoking=LabelEncoder()\n",
        "\n",
        "lbcode_gender.fit(data['gender'])\n",
        "lbcode_ever_married.fit(data['ever_married'])\n",
        "lbcode_work.fit(data['work_type'])\n",
        "lbcode_residence.fit(data['Residence_type'])\n",
        "lbcode_smoking.fit(data['smoking_status'])"
      ],
      "metadata": {
        "colab": {
          "base_uri": "https://localhost:8080/"
        },
        "id": "C-SrPOKxjm-j",
        "outputId": "bae5eaa0-8135-4e3c-f604-300042eccfe2"
      },
      "execution_count": null,
      "outputs": [
        {
          "output_type": "execute_result",
          "data": {
            "text/plain": [
              "LabelEncoder()"
            ]
          },
          "metadata": {},
          "execution_count": 49
        }
      ]
    },
    {
      "cell_type": "markdown",
      "source": [
        "Training the model on oversampled+undersampled training data. The trained model will be added to the pipeline"
      ],
      "metadata": {
        "id": "EJl-__vCKKv8"
      }
    },
    {
      "cell_type": "code",
      "source": [
        "lgr=LogisticRegression(C=0.2,penalty='l2')\n",
        "model_final=lgr.fit(X_train_oversample,y_train_oversample)"
      ],
      "metadata": {
        "id": "wFMZL4uWFh7V"
      },
      "execution_count": null,
      "outputs": []
    },
    {
      "cell_type": "markdown",
      "source": [
        "Defining the function which deletes id and residence features from the test data. This function is added to the pipeline using FunctionTransformer from sklearn"
      ],
      "metadata": {
        "id": "fjuC8olWKYw6"
      }
    },
    {
      "cell_type": "code",
      "source": [
        "def preprocess(X_test_pipe):\n",
        "  X_test_pipe[:,1]=lbcode_gender.transform(X_test_pipe[:,1])\n",
        "  X_test_pipe[:,5]=lbcode_ever_married.transform(X_test_pipe[:,5])\n",
        "  X_test_pipe[:,6]=lbcode_work.transform(X_test_pipe[:,6])\n",
        "  X_test_pipe[:,7]=lbcode_residence.transform(X_test_pipe[:,7])\n",
        "  X_test_pipe[:,10]=lbcode_smoking.transform(X_test_pipe[:,10])\n",
        "  X_test_pipe=np.delete(X_test_pipe,0,1)\n",
        "  X_test_pipe=np.delete(X_test_pipe,6,1)\n",
        "  return(X_test_pipe)"
      ],
      "metadata": {
        "id": "x7J-iPAqGF8l"
      },
      "execution_count": null,
      "outputs": []
    },
    {
      "cell_type": "markdown",
      "source": [
        "Creating the pipeline"
      ],
      "metadata": {
        "id": "_VbO1gFSKrfE"
      }
    },
    {
      "cell_type": "code",
      "source": [
        "from sklearn.pipeline import make_pipeline\n",
        "from sklearn.preprocessing import FunctionTransformer\n",
        "transformer = FunctionTransformer(preprocess)\n",
        "pipeline=make_pipeline(transformer,scalar,model_final)"
      ],
      "metadata": {
        "id": "eMonhZ3wDk1O"
      },
      "execution_count": null,
      "outputs": []
    },
    {
      "cell_type": "markdown",
      "source": [
        "Using the pipeline to predict on the test data"
      ],
      "metadata": {
        "id": "omZP29LeKuS0"
      }
    },
    {
      "cell_type": "code",
      "source": [
        "y_pred_proba_pipe=pipeline.predict_proba(X_test_pipe)\n",
        "y_pred_pipe=[]\n",
        "for i in y_pred_proba_pipe:\n",
        "    if(i[1]<=0.65):\n",
        "      y_pred_pipe.append(0)\n",
        "    else:\n",
        "      y_pred_pipe.append(1)"
      ],
      "metadata": {
        "id": "YnZB_Qa31XTk"
      },
      "execution_count": null,
      "outputs": []
    },
    {
      "cell_type": "code",
      "source": [
        "print('Number of strokes predicted:',sum(y_pred_pipe))\n",
        "print('Actual number of strokes:',sum(y_test_pipe))\n",
        "print('Accuracy:',accuracy(y_test_pipe,y_pred_pipe))\n",
        "print('f1 score:',f1_score(y_test_pipe,y_pred_pipe))\n",
        "print(classification_report(y_test_pipe,y_pred_pipe))\n",
        "plot_confusion_matrix_heatmap(y_test_pipe,y_pred_pipe)"
      ],
      "metadata": {
        "colab": {
          "base_uri": "https://localhost:8080/"
        },
        "id": "nEB_YLsPJMzy",
        "outputId": "9790d55e-4392-4770-a3a9-bffec8ce6c39"
      },
      "execution_count": null,
      "outputs": [
        {
          "output_type": "stream",
          "name": "stdout",
          "text": [
            "Number of strokes predicted: 196\n",
            "Actual number of strokes: 43\n",
            "Accuracy: 0.8116089613034623\n",
            "f1 score: 0.22594142259414227\n",
            "              precision    recall  f1-score   support\n",
            "\n",
            "           0       0.98      0.82      0.89       939\n",
            "           1       0.14      0.63      0.23        43\n",
            "\n",
            "    accuracy                           0.81       982\n",
            "   macro avg       0.56      0.72      0.56       982\n",
            "weighted avg       0.94      0.81      0.86       982\n",
            "\n"
          ]
        },
        {
          "output_type": "display_data",
          "data": {
            "text/plain": [
              "<Figure size 432x288 with 2 Axes>"
            ],
            "image/png": "[encoded data removed]"
          },
          "metadata": {
            "needs_background": "light"
          }
        }
      ]
    },
    {
      "cell_type": "markdown",
      "source": [
        "The pipeline produces the same results as the Logistic Regression model trained with fine tuning on oversampled data."
      ],
      "metadata": {
        "id": "vRHWwyFhJxoT"
      }
    }
  ]
}